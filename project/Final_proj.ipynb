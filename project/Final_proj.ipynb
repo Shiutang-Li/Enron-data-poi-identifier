{
 "cells": [
  {
   "cell_type": "markdown",
   "metadata": {},
   "source": [
    "# Identify fraud from Enron data set\n",
    "### by Shiu-Tang Li"
   ]
  },
  {
   "cell_type": "markdown",
   "metadata": {},
   "source": [
    "## 1. Introduction\n",
    "\n",
    "In 2000, Enron was one of the largest companies in the US, but soon it went bankruptcy due to corporate fraud. The goal of this project is use machine learning knowledge to build identifiers to predict who is a POI (person of interest) based on the Enron data set. POI means individuals who were indicted, reached a settlement or plea deal with the government, or testified in exchange for prosecution immunity. \n",
    "\n",
    "### 1.1 Data set quick overview \n",
    "\n",
    "The Enron data set used to build the machine learning prediction model in this report contains 146 personal data, with 21 features. These features are:\n",
    "\n",
    "#### A. POI (Person of interst) label: \n",
    "\n",
    "'poi': '1' means this person is POI. '0' means this person is NOT a POI. In this training data set there're 18 POIs.\n",
    "\n",
    "#### B. Financial features (all units are in US dollars): \n",
    "##### B.1 Payments \n",
    "Features include: 'salary', 'bonus', 'long_term_incentive', 'deferred_income', 'deferral_payments', 'loan_advances', 'other', 'expenses', 'director_fees', 'total_payments'.\n",
    "##### B.2 Stock Value \n",
    "Features include: 'exercised_stock_options',  'restricted_stock', 'restricted_stock_deferred', 'total_stock_value'. \n",
    "\n",
    "#### C. Email features: \n",
    "Features include: 'email_address', 'to_messages', 'from_messages', 'from_poi_to_this_person',   'from_this_person_to_poi', 'shared_receipt_with_poi'. \n",
    "\n",
    "'email_address' is a text string; units other than 'email_address' are number of emails messages. \n",
    "\n",
    "\n",
    "### 1.2 table of contents\n",
    "\n",
    "**2 Data cleaning **\n",
    "\n",
    "2.1 Missing values removal / interpretation\n",
    "\n",
    "**3 Tranformation of data set **\n",
    "\n",
    "3.1 Logarithmic transformation of financial features <br />\n",
    "3.2 Feature scaling (substract by mean and then divide by standard dev) <br />\n",
    "3.3 Removing outliers\n",
    "\n",
    "** 4 Feature selection **\n",
    "\n",
    "** 5 Applying machine learning algorithms **\n",
    "\n",
    "5.1 Comparison of different algorithms \n",
    "5.2 Adjusting number of features used\n",
    "\n",
    "** 6 Data leakage filters **\n",
    "\n",
    "** 7 Reflection **"
   ]
  },
  {
   "cell_type": "code",
   "execution_count": 1,
   "metadata": {
    "collapsed": false
   },
   "outputs": [
    {
     "data": {
      "text/html": [
       "<script>jQuery(function() {if (jQuery(\"body.notebook_app\").length == 0) { jQuery(\".input_area\").toggle(); jQuery(\".prompt\").toggle();}});</script>"
      ]
     },
     "metadata": {},
     "output_type": "execute_result"
    },
    {
     "data": {
      "text/html": [
       "<button onclick=\"jQuery('.input_area').toggle(); jQuery('.prompt').toggle();\">Toggle code</button>"
      ]
     },
     "metadata": {},
     "output_type": "execute_result"
    }
   ],
   "source": [
    "####  Snippet by Max Masnick       https://www.maxmasnick.com/\n",
    "####  Used to hide all codes\n",
    "\n",
    "import IPython.core.display as di\n",
    "\n",
    "# This line will hide code by default when the notebook is exported as HTML\n",
    "di.display_html('<script>jQuery(function() {if (jQuery(\"body.notebook_app\").length == 0) { jQuery(\".input_area\").toggle(); jQuery(\".prompt\").toggle();}});</script>', raw=True)\n",
    "\n",
    "# This line will add a button to toggle visibility of code blocks, for use with the HTML export version\n",
    "di.display_html('''<button onclick=\"jQuery('.input_area').toggle(); jQuery('.prompt').toggle();\">Toggle code</button>''', raw=True)"
   ]
  },
  {
   "cell_type": "markdown",
   "metadata": {},
   "source": [
    "## 2. Data cleaning\n",
    "\n",
    "In this section, I would perform analysis to figure out if the missing values are actually zeros, and if not how do I deal with these missing values. Then I'll check through the data set to see if there're any outliers that I better off dicarding them when I build models."
   ]
  },
  {
   "cell_type": "code",
   "execution_count": 2,
   "metadata": {
    "collapsed": false
   },
   "outputs": [],
   "source": [
    "import sys\n",
    "import pickle\n",
    "from copy import deepcopy\n",
    "import numpy as np\n",
    "import pandas as pd\n",
    "from sklearn.feature_selection import SelectKBest, f_classif, chi2\n",
    "from sklearn.naive_bayes import GaussianNB\n",
    "from sklearn import tree\n",
    "from sklearn.ensemble import AdaBoostClassifier\n",
    "from sklearn.linear_model import LogisticRegression\n",
    "from sklearn.svm import SVC\n",
    "from sklearn.ensemble import RandomForestClassifier\n",
    "from sklearn.neighbors import KNeighborsClassifier\n",
    "\n",
    "from sklearn.metrics import precision_score\n",
    "from sklearn.metrics import recall_score\n",
    "\n",
    "import matplotlib.pyplot as plt\n",
    "\n",
    "sys.path.append(\"../tools/\")\n",
    "\n",
    "from tester2 import test_classifier\n",
    "\n",
    "financial_feature = ['salary', 'bonus', 'long_term_incentive', 'deferred_income', \n",
    "                     'deferral_payments', 'loan_advances', 'other', 'expenses', \n",
    "                     'director_fees', 'total_payments',\n",
    "                     'exercised_stock_options', 'restricted_stock', \n",
    "                     'restricted_stock_deferred', 'total_stock_value']\n",
    "email_feature = ['to_messages', 'from_messages', \n",
    "                 'from_poi_to_this_person', 'from_this_person_to_poi', \n",
    "                 'shared_receipt_with_poi']\n",
    "features_list = ['poi'] +  financial_feature + ['email_address'] + email_feature\n",
    "features_list_no_email_no_poi = financial_feature + email_feature\n",
    "\n",
    "with open(\"final_project_dataset.pkl\", \"r\") as data_file:\n",
    "    data = pickle.load(data_file)"
   ]
  },
  {
   "cell_type": "markdown",
   "metadata": {},
   "source": [
    "### 2.1 Missing values removal / interpretation\n",
    "\n",
    "First, I do a quick analysis to check how many NaN's appear in each feature, and how many POI's appear in NaN group and non-NaN group. It turns out that there're a lot of NaNs."
   ]
  },
  {
   "cell_type": "code",
   "execution_count": 3,
   "metadata": {
    "collapsed": false
   },
   "outputs": [
    {
     "name": "stdout",
     "output_type": "stream",
     "text": [
      "ROP: ratio of number of POIs to number of people in group\n",
      "\n",
      "Feature name            ROP in NaNs  ROP in non-NaNs\n",
      "\n",
      "poi                             0/0      18/146\n",
      "salary                         1/51       17/95\n",
      "bonus                          2/64       16/82\n",
      "long_term_incentive            6/80       12/66\n",
      "deferred_income                7/97       11/49\n",
      "deferral_payments            13/107        5/39\n",
      "loan_advances                17/142         1/4\n",
      "other                          0/53       18/93\n",
      "expenses                       0/51       18/95\n",
      "director_fees                18/129        0/17\n",
      "total_payments                 0/21      18/125\n",
      "exercised_stock_options        6/44      12/102\n",
      "restricted_stock               1/36      17/110\n",
      "restricted_stock_deferred    18/128        0/18\n",
      "total_stock_value              0/20      18/126\n",
      "email_address                  0/35      18/111\n",
      "to_messages                    4/60       14/86\n",
      "from_messages                  4/60       14/86\n",
      "from_poi_to_this_person        4/60       14/86\n",
      "from_this_person_to_poi        4/60       14/86\n",
      "shared_receipt_with_poi        4/60       14/86\n"
     ]
    }
   ],
   "source": [
    "print(\"ROP: ratio of number of POIs to number of people in group\")\n",
    "print(\"\")\n",
    "print((\"Feature name\").ljust(24) +  (\"ROP in NaNs\").rjust(9) + \"  ROP in non-NaNs\")\n",
    "print(\"\")\n",
    "\n",
    "for key in features_list:\n",
    "    ctr1 = 0\n",
    "    ctr2 = 0\n",
    "    ctr3 = 0\n",
    "    for row in data:\n",
    "        if (data[row][key] == \"NaN\"):\n",
    "            ctr1 += 1\n",
    "        if (data[row][key] == \"NaN\") and (data[row]['poi'] == True):\n",
    "            ctr2 += 1\n",
    "        if (data[row][key] != \"NaN\") and (data[row]['poi'] == True):\n",
    "                ctr3 += 1\n",
    "    print ((key).ljust(26)  + (str(ctr2)+\"/\"+str(ctr1)).rjust(9) +\n",
    "                (str(ctr3)+\"/\"+str(146 - ctr1)).rjust(12))"
   ]
  },
  {
   "cell_type": "markdown",
   "metadata": {},
   "source": [
    "I'm wondering whether these NaNs are actually zeros but are just stored as NaNs. Let me first check if there're any zeros in each feature."
   ]
  },
  {
   "cell_type": "code",
   "execution_count": 4,
   "metadata": {
    "collapsed": false
   },
   "outputs": [
    {
     "name": "stdout",
     "output_type": "stream",
     "text": [
      "Feature name            Number of zeros\n",
      "poi                       128\n",
      "salary                    0\n",
      "bonus                     0\n",
      "long_term_incentive       0\n",
      "deferred_income           0\n",
      "deferral_payments         0\n",
      "loan_advances             0\n",
      "other                     0\n",
      "expenses                  0\n",
      "director_fees             0\n",
      "total_payments            0\n",
      "exercised_stock_options   0\n",
      "restricted_stock          0\n",
      "restricted_stock_deferred 0\n",
      "total_stock_value         0\n",
      "email_address             0\n",
      "to_messages               0\n",
      "from_messages             0\n",
      "from_poi_to_this_person   12\n",
      "from_this_person_to_poi   20\n",
      "shared_receipt_with_poi   0\n"
     ]
    }
   ],
   "source": [
    "print((\"Feature name\").ljust(24) +  (\"Number of zeros\").rjust(9))\n",
    "\n",
    "for key in features_list:\n",
    "    ctr = 0\n",
    "    for row in data:\n",
    "        if (data[row][key] == 0):\n",
    "            ctr += 1\n",
    "    print ((key).ljust(26)  + str(ctr))"
   ]
  },
  {
   "cell_type": "markdown",
   "metadata": {},
   "source": [
    "Now it seems like the NaNs in financial features are zeros, but the NaNs in email features are not (there're both zeros and NaNs in the dataset). So my next step is to replace NaNs in financial features with zeros, and then check for each record if the sum of all payments equals the total payment, and if the sum of all stock values equals total stock value."
   ]
  },
  {
   "cell_type": "code",
   "execution_count": 5,
   "metadata": {
    "collapsed": false
   },
   "outputs": [
    {
     "name": "stdout",
     "output_type": "stream",
     "text": [
      "('BELFER ROBERT', -99215, 102500)\n",
      "('BHATNAGAR SANJAY', 275728, 15456290)\n",
      "The number of matches of 'sum of all payments' and 'total payment': 144\n",
      "\n",
      "('BELFER ROBERT', 47378, -44093)\n",
      "('BHATNAGAR SANJAY', 15456290, 0)\n",
      "The number of matches of 'sum of all stock values' and 'total stock value': 144\n"
     ]
    }
   ],
   "source": [
    "# make a deep copy of the original dataset\n",
    "cleaned_data = deepcopy(data)\n",
    "\n",
    "# replace NaN with zero\n",
    "for person in cleaned_data:\n",
    "    for key in cleaned_data[person]:\n",
    "        for row in cleaned_data:\n",
    "            if (cleaned_data[row][key] == \"NaN\"):\n",
    "                cleaned_data[row][key] =0\n",
    "    break\n",
    "\n",
    "ctr_match = 0\n",
    "for i, key in enumerate(cleaned_data):\n",
    "    tot =(cleaned_data[key]['salary'] + \n",
    "          cleaned_data[key]['bonus'] +\n",
    "          cleaned_data[key]['long_term_incentive'] +\n",
    "          cleaned_data[key]['deferred_income'] +\n",
    "          cleaned_data[key]['deferral_payments'] +\n",
    "          cleaned_data[key]['loan_advances'] +\n",
    "          cleaned_data[key]['other'] +\n",
    "          cleaned_data[key]['expenses'] +\n",
    "          cleaned_data[key]['director_fees'])\n",
    "    if tot ==  cleaned_data[key]['total_payments']:\n",
    "        ctr_match += 1\n",
    "    if tot !=  cleaned_data[key]['total_payments']:\n",
    "        print(key, tot, cleaned_data[key]['total_payments'])\n",
    "\n",
    "print(\"The number of matches of 'sum of all payments' and 'total payment': \" + str(ctr_match))\n",
    "print(\"\")\n",
    "\n",
    "ctr_match = 0\n",
    "for i, key in enumerate(cleaned_data):\n",
    "    tot =(cleaned_data[key]['exercised_stock_options'] + \n",
    "          cleaned_data[key]['restricted_stock'] +\n",
    "          cleaned_data[key]['restricted_stock_deferred'])\n",
    "    if tot ==  cleaned_data[key]['total_stock_value']:\n",
    "        ctr_match += 1\n",
    "    if tot !=  cleaned_data[key]['total_stock_value']:\n",
    "        print(key, tot, cleaned_data[key]['total_stock_value'])\n",
    "\n",
    "print(\"The number of matches of 'sum of all stock values' and 'total stock value': \" + str(ctr_match))"
   ]
  },
  {
   "cell_type": "markdown",
   "metadata": {},
   "source": [
    "Seems like my guess is right (Only two records don't match). The detailed information of the 2 weird records are shown below. It doesn't seem like there's an easy way to fix it (plus they're not POIs), so these 2 records are removed."
   ]
  },
  {
   "cell_type": "code",
   "execution_count": 6,
   "metadata": {
    "collapsed": false
   },
   "outputs": [
    {
     "name": "stdout",
     "output_type": "stream",
     "text": [
      "feature name           BELFER ROBERT             BHATNAGAR SANJAY\n",
      "poi                            False                        False\n",
      "salary                           NaN                          NaN\n",
      "bonus                            NaN                          NaN\n",
      "long_term_incentive              NaN                          NaN\n",
      "deferred_income                  NaN                          NaN\n",
      "deferral_payments            -102500                          NaN\n",
      "loan_advances                    NaN                          NaN\n",
      "other                            NaN                       137864\n",
      "expenses                         NaN                          NaN\n",
      "director_fees                   3285                       137864\n",
      "total_payments                102500                     15456290\n",
      "exercised_stock_options         3285                      2604490\n",
      "restricted_stock                 NaN                     -2604490\n",
      "restricted_stock_deferred      44093                     15456290\n",
      "total_stock_value             -44093                          NaN\n",
      "email_address                    NaN   sanjay.bhatnagar@enron.com\n",
      "to_messages                      NaN                          523\n",
      "from_messages                    NaN                           29\n",
      "from_poi_to_this_person          NaN                            0\n",
      "from_this_person_to_poi          NaN                            1\n",
      "shared_receipt_with_poi          NaN                          463\n",
      "\n"
     ]
    }
   ],
   "source": [
    "print('feature name'.ljust(23) + 'BELFER ROBERT' + 'BHATNAGAR SANJAY'.rjust(29))\n",
    "\n",
    "for key in features_list:\n",
    "    print((key).ljust(26) +  str(data['BELFER ROBERT'][key]).rjust(10) \n",
    "          + str(data['BHATNAGAR SANJAY'][key]).rjust(29) )\n",
    "print(\"\")\n",
    "\n",
    "del cleaned_data['BELFER ROBERT']\n",
    "del cleaned_data['BHATNAGAR SANJAY']"
   ]
  },
  {
   "cell_type": "markdown",
   "metadata": {},
   "source": [
    "In the very end of this section let's take a look at the major statistics for each feature in our cleaned dataset. Two of the features contain only nonpositive values; the others contain only nonnegative values. "
   ]
  },
  {
   "cell_type": "code",
   "execution_count": 7,
   "metadata": {
    "collapsed": false
   },
   "outputs": [
    {
     "name": "stdout",
     "output_type": "stream",
     "text": [
      "feature name                     min        max     median         mean          stdev  stdev/|mean|\n",
      "\n",
      "salary                             0   26704229   211240.0    370892.07     2210786.89   5.96\n",
      "bonus                              0   97343619   300000.0   1351994.71     8120543.29   6.01\n",
      "long_term_incentive                0   48521928        0.0    673915.67     4059330.31   6.02\n",
      "deferred_income            -27992891          0        0.0   -388078.35     2386061.14   6.15\n",
      "deferral_payments                  0   32083396        0.0    445602.72     2750205.99   6.17\n",
      "loan_advances                      0   83925000        0.0    1165625.0     9681827.58   8.31\n",
      "other                              0   42667589      959.5     592605.4     3694591.08   6.23\n",
      "expenses                           0    5235198    21937.0     71730.88      434135.04   6.05\n",
      "director_fees                      0    1398517        0.0     18712.04      119048.79   6.36\n",
      "total_payments                     0  309886585   941359.5   4303000.15    27009629.39   6.28\n",
      "\n",
      "exercised_stock_options            0  311764000   608293.5   4222720.21    26158085.68   6.19\n",
      "restricted_stock                   0  130322299   361978.0   1791638.99    10930661.63    6.1\n",
      "restricted_stock_deferred   -7576788          0        0.0    -86840.23      648754.73   7.47\n",
      "total_stock_value                  0  434509511   980534.5   5927518.97    36365782.03   6.14\n",
      "\n",
      "to_messages                        0      15149      289.0      1234.92        2231.37   1.81\n",
      "from_messages                      0      14368       16.5       363.38        1445.68   3.98\n",
      "from_poi_to_this_person            0        528        4.0        38.76          74.02   1.91\n",
      "from_this_person_to_poi            0        609        0.0        24.62           79.5   3.23\n",
      "shared_receipt_with_poi            0       5521      102.5        699.4        1074.95   1.54\n"
     ]
    }
   ],
   "source": [
    "data_dictionary = {}\n",
    "for key in features_list_no_email_no_poi:\n",
    "    feature_data = []\n",
    "    for person in cleaned_data:\n",
    "        feature_data.append(cleaned_data[person][key])\n",
    "    data_dictionary[key] = feature_data       \n",
    "        \n",
    "print(\"feature name\".ljust(26) +  \"min\".rjust(10)\n",
    "        + \"max\".rjust(11) + \"median\".rjust(11) +  \"mean\".rjust(13) +  \"stdev\".rjust(15)\n",
    "        + \"  stdev/|mean|\")\n",
    "print(\"\")\n",
    "\n",
    "for key in features_list_no_email_no_poi:\n",
    "    print((key).ljust(26) +  str(min(data_dictionary[key])).rjust(10)\n",
    "        + str(max(data_dictionary[key])).rjust(11)\n",
    "        + str(np.median(data_dictionary[key])).rjust(11)  \n",
    "        + str( round(np.mean(data_dictionary[key]) ,2)).rjust(13)\n",
    "        + str( round(np.std(data_dictionary[key]) ,2)).rjust(15)\n",
    "        + str( round(np.std(data_dictionary[key]) / abs(np.mean(data_dictionary[key])) ,2)).rjust(7))\n",
    "    if (key == 'total_payments') or (key == 'total_stock_value'):\n",
    "        print(\"\")"
   ]
  },
  {
   "cell_type": "markdown",
   "metadata": {},
   "source": [
    "## 3. Tranformation of data set\n",
    "\n",
    "In this section I will do a few transformations on the dataset in preparation for the machine learing algorithms coming afterwards. I would perform log transformation on financial features first, then do feature scaling, and in the end remove a few outliers if necessary. "
   ]
  },
  {
   "cell_type": "markdown",
   "metadata": {},
   "source": [
    "### 3.1 Logarithmic transformation of financial features\n",
    "\n",
    "From the table in the very end of the previous section, almost all variables of financial features have a high stdandard deviation / mean ratio (6 to 8). I would say this is a lot. So I decide to perform the transformation\n",
    "\n",
    "$$\\mbox{new value} = sign(\\mbox{old value}) \\cdot \\log_{10}(\\left|\\mbox{old value}\\right| + 1),$$\n",
    "\n",
    "in order to reduce the effect of lagre values (These financial features seem to have a long tail distribution). "
   ]
  },
  {
   "cell_type": "code",
   "execution_count": 8,
   "metadata": {
    "collapsed": false
   },
   "outputs": [],
   "source": [
    "# Before doing all the transformations, let's put the cleaned data set \n",
    "# (which is a dictionary) in a dataframe first.\n",
    "\n",
    "data_dictionary = {}\n",
    "for key in features_list:\n",
    "    feature_data = []\n",
    "    for person in cleaned_data:\n",
    "        feature_data.append(cleaned_data[person][key])\n",
    "    data_dictionary[key] = feature_data\n",
    "\n",
    "name_list = []\n",
    "for person in cleaned_data:\n",
    "    name_list.append(person)    \n",
    "data_dictionary['name'] = name_list\n",
    "\n",
    "df = pd.DataFrame(data_dictionary)\n",
    "df = df[(['name'] + features_list)]"
   ]
  },
  {
   "cell_type": "code",
   "execution_count": 9,
   "metadata": {
    "collapsed": false
   },
   "outputs": [],
   "source": [
    "# log transformation on financial features\n",
    "for key in financial_feature:\n",
    "    df[key] = (np.sign(df[key]) \n",
    "             * np.log10(abs(df[key]) + 1))"
   ]
  },
  {
   "cell_type": "code",
   "execution_count": 10,
   "metadata": {
    "collapsed": false
   },
   "outputs": [
    {
     "name": "stdout",
     "output_type": "stream",
     "text": [
      "** The new data set after log transformation is performed on financial features **\n",
      "\n",
      "feature name                     min       max    median      mean     stdev  stdev/|mean|\n",
      "salary                           0.0      7.43      5.32      3.55      2.58      0.73\n",
      "bonus                            0.0      7.99      5.48      3.37      2.95      0.88\n",
      "long_term_incentive              0.0      7.69       0.0      2.61      2.86      1.09\n",
      "deferred_income                -7.45       0.0       0.0     -1.77      2.52      1.42\n",
      "deferral_payments                0.0      7.51       0.0      1.46      2.47      1.69\n",
      "loan_advances                    0.0      7.92       0.0      0.19      1.15      5.98\n",
      "other                            0.0      7.63      2.98      2.78      2.39      0.86\n",
      "expenses                         0.0      6.72      4.34      2.99       2.2      0.74\n",
      "director_fees                    0.0      6.15       0.0      0.52      1.53      2.94\n",
      "total_payments                   0.0      8.49      5.97      5.02      2.23      0.44\n",
      "\n",
      "exercised_stock_options          0.0      8.49      5.78      4.22      2.85      0.68\n",
      "restricted_stock                 0.0      8.12      5.56      4.36      2.51      0.58\n",
      "restricted_stock_deferred      -6.88       0.0       0.0      -0.6       1.7      2.85\n",
      "total_stock_value                0.0      8.64      5.99      5.31      2.16      0.41\n",
      "\n",
      "to_messages                      0.0   15149.0     289.0   1234.92   2231.37      1.81\n",
      "from_messages                    0.0   14368.0      16.5    363.38   1445.68      3.98\n",
      "from_poi_to_this_person          0.0     528.0       4.0     38.76     74.02      1.91\n",
      "from_this_person_to_poi          0.0     609.0       0.0     24.62      79.5      3.23\n",
      "shared_receipt_with_poi          0.0    5521.0     102.5     699.4   1074.95      1.54\n"
     ]
    }
   ],
   "source": [
    "# a glance of the data set after log transformation\n",
    "print(\"** The new data set after log transformation is performed on financial features **\")\n",
    "print(\"\")\n",
    "print(\"feature name\".ljust(26) +  \"min\".rjust(10)\n",
    "        + \"max\".rjust(10) + \"median\".rjust(10) +  \"mean\".rjust(10) +  \"stdev\".rjust(10)\n",
    "        + \"  stdev/|mean|\")\n",
    "\n",
    "for key in df.columns:\n",
    "    if (key != 'email_address') and (key != 'poi') and (key != 'name'):\n",
    "        print((key).ljust(26) \n",
    "          + str( round(min(df[key]),2)).rjust(10)\n",
    "          + str( round(max(df[key]),2)).rjust(10)\n",
    "          + str( round(np.median(df[key]),2)).rjust(10) \n",
    "          + str( round(np.mean(df[key]) ,2)).rjust(10)\n",
    "          + str( round(np.std(df[key]) ,2)).rjust(10)\n",
    "          + str( round( float(np.std(df[key])) / float(abs(np.mean(df[key]))) ,2)).rjust(10))\n",
    "    if (key == 'total_payments') or (key == 'total_stock_value'):\n",
    "        print(\"\")"
   ]
  },
  {
   "cell_type": "markdown",
   "metadata": {},
   "source": [
    "### 3.2 Feature scaling (substract by mean and then divide by standard dev):\n",
    "\n",
    "The next step is feature scaling. The reason to perform feature scaling is to make sure different features have equal importance (although this may not be the case in reality)."
   ]
  },
  {
   "cell_type": "code",
   "execution_count": 11,
   "metadata": {
    "collapsed": false
   },
   "outputs": [],
   "source": [
    "for key in features_list_no_email_no_poi:\n",
    "    df[key] = (df[key] - np.mean(df[key])) / np.std(df[key])"
   ]
  },
  {
   "cell_type": "code",
   "execution_count": 12,
   "metadata": {
    "collapsed": false
   },
   "outputs": [
    {
     "name": "stdout",
     "output_type": "stream",
     "text": [
      "** The new data set after all features are scaled **\n",
      "\n",
      "feature name                       min         max      median        mean\n",
      "salary                         -1.3793      1.5033      0.6875        -0.0\n",
      "bonus                          -1.1422      1.5671      0.7154         0.0\n",
      "long_term_incentive            -0.9139      1.7745     -0.9139        -0.0\n",
      "deferred_income                -2.2496       0.702       0.702         0.0\n",
      "deferral_payments              -0.5907      2.4532     -0.5907         0.0\n",
      "loan_advances                  -0.1672      6.7109     -0.1672         0.0\n",
      "other                          -1.1655      2.0328      0.0847        -0.0\n",
      "expenses                       -1.3561      1.6918      0.6131        -0.0\n",
      "director_fees                  -0.3398      3.6726     -0.3398        -0.0\n",
      "total_payments                 -2.2554      1.5573      0.4268         0.0\n",
      "\n",
      "exercised_stock_options        -1.4766      1.4988      0.5496        -0.0\n",
      "restricted_stock               -1.7324      1.4951      0.4784         0.0\n",
      "restricted_stock_deferred       -3.694      0.3512      0.3512         0.0\n",
      "total_stock_value              -2.4609      1.5425      0.3159        -0.0\n",
      "\n",
      "to_messages                    -0.5534      6.2357     -0.4239         0.0\n",
      "from_messages                  -0.2514      9.6872     -0.2399         0.0\n",
      "from_poi_to_this_person        -0.5236      6.6097     -0.4696         0.0\n",
      "from_this_person_to_poi        -0.3096      7.3504     -0.3096         0.0\n",
      "shared_receipt_with_poi        -0.6506      4.4854     -0.5553        -0.0\n"
     ]
    }
   ],
   "source": [
    "print(\"** The new data set after all features are scaled **\")\n",
    "print(\"\")\n",
    "print(\"feature name\".ljust(26) +  \"min\".rjust(12)\n",
    "        + \"max\".rjust(12) + \"median\".rjust(12) +  \"mean\".rjust(12))\n",
    "\n",
    "for key in df.columns:\n",
    "    if (key != 'email_address') and (key != 'poi') and (key != 'name'):\n",
    "        print((key).ljust(26) \n",
    "          + str( round(min(df[key]),4)).rjust(12)\n",
    "          + str( round(max(df[key]),4)).rjust(12)\n",
    "          + str( round(np.median(df[key]),4)).rjust(12) \n",
    "          + str( round(np.mean(df[key]) ,4)).rjust(12))\n",
    "    if (key == 'total_payments') or (key == 'total_stock_value'):\n",
    "        print(\"\")"
   ]
  },
  {
   "cell_type": "markdown",
   "metadata": {},
   "source": [
    "### 3.3 Removing outliers"
   ]
  },
  {
   "cell_type": "markdown",
   "metadata": {},
   "source": [
    "I first check for each record, how many variables of that record go beyond [mean - 2\\*stdev, mean + 2\\*stdev]. There's 1 record with 6 strange columns, 5 records with 4 strange columns (plus records with fewer strange columns). Most of the strange columns are email features.\n",
    "\n",
    "I would say out of a total of 19 features it doesn't seem like super strange, so I'll keep all records for now because we don't have much data. (Remember that we already removed 2 records in the very beginning!)"
   ]
  },
  {
   "cell_type": "code",
   "execution_count": 13,
   "metadata": {
    "collapsed": false
   },
   "outputs": [
    {
     "name": "stdout",
     "output_type": "stream",
     "text": [
      "Person id: 22;  Number of weird features: 4;  Poi? :False\n",
      "to_messages, 3.1684914285\n",
      "from_poi_to_this_person, 2.86743586366\n",
      "from_this_person_to_poi, 2.13051325516\n",
      "shared_receipt_with_poi, 2.76255385954\n",
      "\n",
      "Person id: 23;  Number of weird features: 4;  Poi? :False\n",
      "director_fees, 2.92117322094\n",
      "total_payments, -2.25540038555\n",
      "restricted_stock_deferred, -2.30152093114\n",
      "total_stock_value, -2.46093557261\n",
      "\n",
      "Person id: 41;  Number of weird features: 4;  Poi? :False\n",
      "to_messages, 2.69972109959\n",
      "from_poi_to_this_person, 6.60974786607\n",
      "from_this_person_to_poi, 4.85997404797\n",
      "shared_receipt_with_poi, 3.03512496176\n",
      "\n",
      "Person id: 101;  Number of weird features: 4;  Poi? :False\n",
      "to_messages, 5.16233386951\n",
      "from_messages, 4.42395747811\n",
      "from_this_person_to_poi, 4.55809819991\n",
      "shared_receipt_with_poi, 2.73464555556\n",
      "\n",
      "Person id: 102;  Number of weird features: 6;  Poi? :False\n",
      "deferred_income, -2.24960146924\n",
      "deferral_payments, 2.45322584014\n",
      "loan_advances, 6.71087677816\n",
      "other, 2.03282313955\n",
      "director_fees, 3.67264312888\n",
      "restricted_stock_deferred, -3.69401708581\n",
      "\n",
      "Person id: 126;  Number of weird features: 4;  Poi? :False\n",
      "deferral_payments, 2.17006449368\n",
      "loan_advances, 5.30220408098\n",
      "from_poi_to_this_person, 2.74584449896\n",
      "shared_receipt_with_poi, 2.12066286798\n",
      "\n"
     ]
    }
   ],
   "source": [
    "threshold = 2   # standard deviation\n",
    "outlier_dict = {}\n",
    "for key in features_list_no_email_no_poi:\n",
    "    if len(df[(df [key] > threshold) | (df [key] < -threshold)].index) != 0:\n",
    "        for i in df[(df [key] > threshold) | (df [key] < -threshold)].index:\n",
    "            if i not in outlier_dict:\n",
    "                outlier_dict[i] = 1\n",
    "            else:\n",
    "                outlier_dict[i] += 1\n",
    "\n",
    "for key in outlier_dict:\n",
    "    if outlier_dict[key] > 3:\n",
    "        outlier_column = []\n",
    "        for feature in features_list_no_email_no_poi:\n",
    "             if((df.iloc[key][feature] > threshold) or (df.iloc[key][feature] < -threshold)):\n",
    "                outlier_column.append([feature, df.iloc[key][feature]])\n",
    "        print(\"Person id: \" + str(key) + \";  Number of weird features: \" + str(outlier_dict[key])\n",
    "              +\";  Poi? :\" + str(df.iloc[key]['poi']))\n",
    "        for item in outlier_column:\n",
    "            print(str(item[0]) + \", \" +str(item[1]))\n",
    "        print(\"\")"
   ]
  },
  {
   "cell_type": "code",
   "execution_count": 14,
   "metadata": {
    "collapsed": true
   },
   "outputs": [],
   "source": [
    "# now the data is ready. Convert the pandas dataframe back to my_dataset, which is a dictionary.\n",
    "final_df = deepcopy(df)\n",
    "temp_data = final_df[features_list].as_matrix()\n",
    "names = final_df['name'].as_matrix()\n",
    "my_dataset = {}\n",
    "for i, name in enumerate(names):\n",
    "    my_dataset[name] = {}\n",
    "    for j, feature in enumerate(features_list):\n",
    "        my_dataset[name][feature] = temp_data[i][j]"
   ]
  },
  {
   "cell_type": "markdown",
   "metadata": {},
   "source": [
    "## 4. Feature selection\n",
    "\n",
    "In this section I'll use the SelectKBest module to find the features I need to train machine learning models. The first step is to convert the dataframe to numpy ndarrays. "
   ]
  },
  {
   "cell_type": "code",
   "execution_count": 15,
   "metadata": {
    "collapsed": true
   },
   "outputs": [],
   "source": [
    "X =  df[features_list_no_email_no_poi].as_matrix()\n",
    "y =  df['poi'].as_matrix()\n",
    "y = y.astype(int)  # [True, False] -> [1, 0]"
   ]
  },
  {
   "cell_type": "markdown",
   "metadata": {},
   "source": [
    "The table below shows the f_classif score and chi2 score for each feature (the higher the better). It happens that both scores of the same ranking for all features. For the analysis of the next section I'll temporarily select the top 13 features (out of 19 features), and then I'll do some adjustments later if necessary."
   ]
  },
  {
   "cell_type": "code",
   "execution_count": 16,
   "metadata": {
    "collapsed": false
   },
   "outputs": [
    {
     "name": "stdout",
     "output_type": "stream",
     "text": [
      "                 feature name  f_classif   chi2  f rank  c rank  total rank\n",
      "0                      salary      8.881  2.119       4       4           4\n",
      "1                       bonus     11.020  2.593       3       3           3\n",
      "2         long_term_incentive      4.474  1.100      11      11          11\n",
      "3             deferred_income      7.337  1.769       6       6           6\n",
      "4           deferral_payments      0.007  0.002      19      19          19\n",
      "5               loan_advances      0.938  0.236      16      16          16\n",
      "6                       other     15.403  3.523       1       1           1\n",
      "7                    expenses     13.223  3.067       2       2           2\n",
      "8               director_fees      2.382  0.594      14      14          14\n",
      "9              total_payments      6.494  1.574       7       7           7\n",
      "10    exercised_stock_options      0.098  0.025      18      18          18\n",
      "11           restricted_stock      5.901  1.436       9       9           9\n",
      "12  restricted_stock_deferred      2.547  0.634      12      12          12\n",
      "13          total_stock_value      6.009  1.461       8       8           8\n",
      "14                to_messages      1.716  0.430      15      15          15\n",
      "15              from_messages      0.164  0.041      17      17          17\n",
      "16    from_poi_to_this_person      5.345  1.306      10      10          10\n",
      "17    from_this_person_to_poi      2.428  0.605      13      13          13\n",
      "18    shared_receipt_with_poi      8.810  2.103       5       5           5\n"
     ]
    }
   ],
   "source": [
    "selector_1 = SelectKBest(score_func = f_classif, k=19).fit(X, y)\n",
    "scores_1 = selector_1.scores_\n",
    "\n",
    "selector_2 = SelectKBest(score_func = chi2, k=19).fit(X+4, y)\n",
    "scores_2 = selector_2.scores_\n",
    "\n",
    "score_df = pd.DataFrame({'feature name':features_list_no_email_no_poi,  'f_classif': scores_1, 'chi2': scores_2}) \n",
    "score_df = score_df[['feature name', 'f_classif', 'chi2']]\n",
    "\n",
    "score_df['f_classif'] =  score_df.apply(lambda x: round(x['f_classif'] ,3) , axis=1)\n",
    "score_df['chi2'] =  score_df.apply(lambda x: round(x['chi2'] ,3) , axis=1)\n",
    "\n",
    "score_df['f rank'] = score_df['f_classif'].rank(ascending=0).astype(int) \n",
    "score_df['c rank'] = score_df['chi2'].rank(ascending=0).astype(int) \n",
    "score_df['total rank'] = (score_df['f rank'] + score_df['c rank']).rank(ascending=1).astype(int) \n",
    "print(score_df)\n",
    "#A_new = selector.transform(new)"
   ]
  },
  {
   "cell_type": "code",
   "execution_count": 17,
   "metadata": {
    "collapsed": false
   },
   "outputs": [],
   "source": [
    "# A function used to select top features\n",
    "def top_feature_list(n):\n",
    "    features_to_be_used = []\n",
    "    for i , row in score_df.iterrows():\n",
    "        if row['total rank'] <= n:\n",
    "            features_to_be_used.append(row['feature name'])\n",
    "    return(features_to_be_used)"
   ]
  },
  {
   "cell_type": "markdown",
   "metadata": {},
   "source": [
    "## 5. Applying machine learning algorithms"
   ]
  },
  {
   "cell_type": "markdown",
   "metadata": {},
   "source": [
    "\n",
    "### 5.1 Comparison of different algorithms\n",
    "There're tons of machine learning algortihms out there for us to use. For this project I'll make my decision based on the following flow chart:\n",
    "<img src=\"ml_map.png\">"
   ]
  },
  {
   "cell_type": "markdown",
   "metadata": {},
   "source": [
    "As a result, besides the basic algorithms (Gaussian naive bayes, logistic regression, decision trees), I'll also test these ones: <br />\n",
    "(1) Linear support vector machine  [tune: Penalty parameter C] <br />\n",
    "(2) K-nearest neighbors    [tune: n_neighbors] <br />\n",
    "(3) Support vector machine with rbf kernel      [tune: Penalty parameter C] <br />\n",
    "(4) Random forests    [tune: n_estimators, max_depth] <br />\n",
    "(5) Adaboost      [tune: n_estimators] <br />\n",
    "\n",
    "I'll first check which class of algorithms has the best performance using sklearn.model_selection.StratifiedShuffleSplit. Then for this best performance class I'll do more parameter tuning / go back to feature selection step to see if I wanna add in or delete features."
   ]
  },
  {
   "cell_type": "code",
   "execution_count": 22,
   "metadata": {
    "collapsed": false
   },
   "outputs": [
    {
     "name": "stdout",
     "output_type": "stream",
     "text": [
      "                                           Random seed 42       Random seed 52       Random seed 62\n",
      "Classifier name                           Pr     Re     F1     Pr     Re     F1     Pr     Re     F1\n",
      "Gaussian naive Bayes                   0.257  0.875  0.397  0.261  0.875  0.402  0.257  0.882  0.399\n",
      "Logistic regression                    0.402  0.173  0.242  0.466  0.198  0.278  0.428  0.189  0.262\n",
      "Decision Tree (max_depth=4)            0.227  0.181  0.202  0.238  0.193  0.213  0.232   0.19  0.209\n",
      "Decision Tree (max_depth=6)            0.216  0.213  0.215  0.227  0.221  0.224  0.223  0.222  0.222\n",
      "Decision Tree (max_depth=8)            0.215   0.22  0.217  0.227  0.232  0.229  0.224  0.234  0.229\n",
      "SVM (C=3, linear)                      0.295  0.183  0.226  0.319  0.188  0.236  0.324  0.199  0.246\n",
      "SVM (C=5, linear)                      0.294  0.185  0.227  0.318  0.194  0.241  0.324  0.204  0.251\n",
      "SVM (C=10, linear)                     0.292   0.19   0.23  0.315    0.2  0.244   0.32  0.207  0.251\n",
      "SVM (C=100, linear)                    0.287  0.191  0.229  0.309  0.202  0.244  0.303  0.203  0.243\n",
      "SVM (C=3, rbf)                         0.506  0.242  0.327  0.549  0.251  0.344   0.53  0.257  0.346\n",
      "SVM (C=5, rbf)                         0.561  0.289  0.382  0.608  0.313  0.413  0.583  0.314  0.408\n",
      "SVM (C=10, rbf)                        0.517  0.306  0.385  0.564  0.331  0.417  0.532  0.332  0.409\n",
      "SVM (C=100, rbf)                       0.368  0.298  0.329  0.413  0.328  0.365  0.383  0.326  0.352\n",
      "KNN (k = 1)                            0.346  0.324  0.335   0.37   0.34  0.354  0.356  0.339  0.347\n",
      "KNN (k = 2)                            0.502  0.161  0.243  0.539  0.171   0.26  0.524  0.165   0.25\n",
      "KNN (k = 3)                            0.391   0.24  0.298  0.413  0.244  0.307  0.397  0.253  0.309\n",
      "KNN (k = 4)                            0.654  0.213  0.322  0.694  0.215  0.329  0.657  0.221   0.33\n"
     ]
    }
   ],
   "source": [
    "classifier_names = ['Gaussian naive Bayes', 'Logistic regression', \n",
    "                    'Decision Tree (max_depth=4)',\n",
    "                    'Decision Tree (max_depth=6)',\n",
    "                    'Decision Tree (max_depth=8)',\n",
    "                    'SVM (C=3, linear)', 'SVM (C=5, linear)',\n",
    "                    'SVM (C=10, linear)', 'SVM (C=100, linear)',\n",
    "                    'SVM (C=3, rbf)', 'SVM (C=5, rbf)',\n",
    "                    'SVM (C=10, rbf)', 'SVM (C=100, rbf)',\n",
    "                    'KNN (k = 1)', 'KNN (k = 2)', 'KNN (k = 3)', 'KNN (k = 4)',\n",
    "                   ]\n",
    "\n",
    "classifier_list = [\n",
    "    GaussianNB(),\n",
    "    LogisticRegression(),\n",
    "    tree.DecisionTreeClassifier(max_depth=4),\n",
    "    tree.DecisionTreeClassifier(max_depth=6),\n",
    "    tree.DecisionTreeClassifier(max_depth=8),\n",
    "    SVC(kernel= 'linear', C = 3),\n",
    "    SVC(kernel= 'linear', C = 5),\n",
    "    SVC(kernel= 'linear', C = 10),\n",
    "    SVC(kernel= 'linear', C = 100),\n",
    "    SVC(kernel='rbf', C = 3),\n",
    "    SVC(kernel='rbf', C = 5),\n",
    "    SVC(kernel='rbf', C = 10),\n",
    "    SVC(kernel='rbf', C = 100),\n",
    "    KNeighborsClassifier(n_neighbors=1),\n",
    "    KNeighborsClassifier(n_neighbors=2),\n",
    "    KNeighborsClassifier(n_neighbors=3),\n",
    "    KNeighborsClassifier(n_neighbors=4),\n",
    "]\n",
    "\n",
    "\n",
    "print(\"\".ljust(36) + \"Random seed 42\".rjust(21) + \"Random seed 52\".rjust(21) \n",
    "      + \"Random seed 62\".rjust(21))\n",
    "print(\"Classifier name\".ljust(36) \n",
    "       + \"Pr\".rjust(8) + \"Re\".rjust(7) + \"F1\".rjust(7)\n",
    "       + \"Pr\".rjust(7) + \"Re\".rjust(7) + \"F1\".rjust(7)\n",
    "       + \"Pr\".rjust(7) + \"Re\".rjust(7) + \"F1\".rjust(7))\n",
    "for i, name in enumerate(classifier_names):\n",
    "    clf = classifier_list[i]\n",
    "    p1, r1, f1 = test_classifier(clf, my_dataset, (['poi'] + train_list))\n",
    "    p2, r2, f2 = test_classifier(clf, my_dataset, (['poi'] + train_list), rs = 52)\n",
    "    p3, r3, f3 = test_classifier(clf, my_dataset, (['poi'] + train_list), rs = 62)\n",
    "    print(str(name).ljust(36) \n",
    "        + str(round(p1,3)).rjust(8)\n",
    "        + str(round(r1,3)).rjust(7)\n",
    "        + str(round(f1,3)).rjust(7) \n",
    "        + str(round(p2,3)).rjust(7)\n",
    "        + str(round(r2,3)).rjust(7)\n",
    "        + str(round(f2,3)).rjust(7)\n",
    "        + str(round(p3,3)).rjust(7)\n",
    "        + str(round(r3,3)).rjust(7)\n",
    "        + str(round(f3,3)).rjust(7))"
   ]
  },
  {
   "cell_type": "code",
   "execution_count": 20,
   "metadata": {
    "collapsed": false
   },
   "outputs": [
    {
     "name": "stdout",
     "output_type": "stream",
     "text": [
      "                                           Random seed 42       Random seed 52       Random seed 62\n",
      "Classifier name                           Pr     Re     F1     Pr     Re     F1     Pr     Re     F1\n",
      "Random forest (n=10, max_depth=4)      0.281  0.106  0.154  0.265   0.09  0.135  0.259  0.092  0.136\n",
      "Random forest (n=10, max_depth=6)      0.259  0.103  0.148  0.271  0.098  0.143   0.29  0.113  0.162\n",
      "Random forest (n=10, max_depth=8)      0.265  0.093  0.138    0.3  0.098  0.148  0.245  0.084  0.125\n",
      "Random forest (n=20, max_depth=4)      0.267  0.082  0.125   0.28  0.085   0.13  0.275  0.084  0.129\n",
      "Random forest (n=20, max_depth=6)      0.268  0.096  0.141  0.292  0.102  0.151  0.267  0.092  0.137\n",
      "Random forest (n=20, max_depth=8)      0.253  0.087   0.13   0.27  0.089  0.134  0.256  0.081  0.122\n"
     ]
    }
   ],
   "source": [
    "classifier_names = ['Random forest (n=10, max_depth=4)',\n",
    "                    'Random forest (n=10, max_depth=6)',\n",
    "                    'Random forest (n=10, max_depth=8)',\n",
    "                    'Random forest (n=20, max_depth=4)',\n",
    "                    'Random forest (n=20, max_depth=6)',\n",
    "                    'Random forest (n=20, max_depth=8)'\n",
    "                   ]\n",
    "\n",
    "classifier_list = [\n",
    "    RandomForestClassifier(max_depth=4, n_estimators=10),\n",
    "    RandomForestClassifier(max_depth=6, n_estimators=10),\n",
    "    RandomForestClassifier(max_depth=8, n_estimators=10),\n",
    "    RandomForestClassifier(max_depth=4, n_estimators=20),\n",
    "    RandomForestClassifier(max_depth=6, n_estimators=20),\n",
    "    RandomForestClassifier(max_depth=8, n_estimators=20)\n",
    "]\n",
    "\n",
    "print(\"\".ljust(36) + \"Random seed 42\".rjust(21) + \"Random seed 52\".rjust(21) \n",
    "      + \"Random seed 62\".rjust(21))\n",
    "print(\"Classifier name\".ljust(36) \n",
    "       + \"Pr\".rjust(8) + \"Re\".rjust(7) + \"F1\".rjust(7)\n",
    "       + \"Pr\".rjust(7) + \"Re\".rjust(7) + \"F1\".rjust(7)\n",
    "       + \"Pr\".rjust(7) + \"Re\".rjust(7) + \"F1\".rjust(7))\n",
    "for i, name in enumerate(classifier_names):\n",
    "    clf = classifier_list[i]\n",
    "    p1, r1, f1 = test_classifier(clf, my_dataset, (['poi'] + train_list))\n",
    "    p2, r2, f2 = test_classifier(clf, my_dataset, (['poi'] + train_list), rs = 52)\n",
    "    p3, r3, f3 = test_classifier(clf, my_dataset, (['poi'] + train_list), rs = 62)\n",
    "    print(str(name).ljust(36) \n",
    "        + str(round(p1,3)).rjust(8)\n",
    "        + str(round(r1,3)).rjust(7)\n",
    "        + str(round(f1,3)).rjust(7) \n",
    "        + str(round(p2,3)).rjust(7)\n",
    "        + str(round(r2,3)).rjust(7)\n",
    "        + str(round(f2,3)).rjust(7)\n",
    "        + str(round(p3,3)).rjust(7)\n",
    "        + str(round(r3,3)).rjust(7)\n",
    "        + str(round(f3,3)).rjust(7))"
   ]
  },
  {
   "cell_type": "code",
   "execution_count": 21,
   "metadata": {
    "collapsed": false
   },
   "outputs": [
    {
     "name": "stdout",
     "output_type": "stream",
     "text": [
      "                                           Random seed 42       Random seed 52       Random seed 62\n",
      "Classifier name                           Pr     Re     F1     Pr     Re     F1     Pr     Re     F1\n",
      "AdaBoost (n_estimators=20)              0.39    0.3  0.339  0.405  0.304  0.348  0.392  0.303  0.342\n",
      "AdaBoost (n_estimators=30)             0.423  0.318  0.363  0.429   0.31   0.36   0.43  0.317  0.365\n",
      "AdaBoost (n_estimators=50)             0.449  0.323  0.376  0.452  0.312  0.369  0.446   0.32  0.373\n"
     ]
    }
   ],
   "source": [
    "classifier_names = [\n",
    "    'AdaBoost (n_estimators=20)',\n",
    "    'AdaBoost (n_estimators=30)',\n",
    "    'AdaBoost (n_estimators=50)'\n",
    "]\n",
    "\n",
    "classifier_list = [\n",
    "    AdaBoostClassifier(n_estimators=20),\n",
    "    AdaBoostClassifier(n_estimators=30),\n",
    "    AdaBoostClassifier(n_estimators=50)\n",
    "]\n",
    "\n",
    "\n",
    "print(\"\".ljust(36) + \"Random seed 42\".rjust(21) + \"Random seed 52\".rjust(21) \n",
    "      + \"Random seed 62\".rjust(21))\n",
    "print(\"Classifier name\".ljust(36) \n",
    "       + \"Pr\".rjust(8) + \"Re\".rjust(7) + \"F1\".rjust(7)\n",
    "       + \"Pr\".rjust(7) + \"Re\".rjust(7) + \"F1\".rjust(7)\n",
    "       + \"Pr\".rjust(7) + \"Re\".rjust(7) + \"F1\".rjust(7))\n",
    "for i, name in enumerate(classifier_names):\n",
    "    clf = classifier_list[i]\n",
    "    p1, r1, f1 = test_classifier(clf, my_dataset, (['poi'] + train_list))\n",
    "    p2, r2, f2 = test_classifier(clf, my_dataset, (['poi'] + train_list), rs = 52)\n",
    "    p3, r3, f3 = test_classifier(clf, my_dataset, (['poi'] + train_list), rs = 62)\n",
    "    print(str(name).ljust(36) \n",
    "        + str(round(p1,3)).rjust(8)\n",
    "        + str(round(r1,3)).rjust(7)\n",
    "        + str(round(f1,3)).rjust(7) \n",
    "        + str(round(p2,3)).rjust(7)\n",
    "        + str(round(r2,3)).rjust(7)\n",
    "        + str(round(f2,3)).rjust(7)\n",
    "        + str(round(p3,3)).rjust(7)\n",
    "        + str(round(r3,3)).rjust(7)\n",
    "        + str(round(f3,3)).rjust(7))"
   ]
  },
  {
   "cell_type": "markdown",
   "metadata": {},
   "source": [
    "From the performance tables above the reader can see that<br />\n",
    "(1) The performance between different random seeds used in sklearn.model_selection.StratifiedShuffleSplit doesn't differ much. So this makes more sense to compare different algorithms. <br />\n",
    "(2) Surprisingly Gaussian naive Bayes has a very high performance on \"recall\" score. I guess it guesses lots of 1's on POI. <br />\n",
    "(3) Adaboost,  SVM (C=10, rbf),  KNN(k=1) all satisfy the performance criterion of the project."
   ]
  },
  {
   "cell_type": "markdown",
   "metadata": {},
   "source": [
    "### 5.2 Adjusting number of features used\n",
    "\n",
    "In this section I'm going to focus on Adaboost, SVM (C=10, rbf), KNN(k=1) and do some tunings on the number of features used. "
   ]
  },
  {
   "cell_type": "code",
   "execution_count": 19,
   "metadata": {
    "collapsed": false
   },
   "outputs": [],
   "source": [
    "def features_performance(clf, clf_name_string, randomseed = 42):\n",
    "    number_of_features = [i for i in range(5,16)] \n",
    "    Precision = []\n",
    "    Recall = []\n",
    "    F1 = []\n",
    "\n",
    "    for i in range(5,16):\n",
    "        p, r, f =  test_classifier(clf, \n",
    "                                   my_dataset, \n",
    "                                   (['poi'] + top_feature_list(i)), rs = randomseed)\n",
    "        Precision.append(p)\n",
    "        Recall.append(r)\n",
    "        F1.append(f)\n",
    "        \n",
    "    plt.plot(number_of_features, Precision, marker='o', linestyle='--', color='b', label='Precision')\n",
    "    plt.plot(number_of_features, Recall, marker='o', linestyle='--', color='r', label='Recall')\n",
    "    plt.plot(number_of_features, F1, marker='o', linestyle='--', color='g', label='F1')\n",
    "    plt.xlabel('Number of features')\n",
    "    plt.ylabel('Performance scores')\n",
    "    plt.title('Performance of '+ clf_name_string + ' / number of features uesd')\n",
    "    plt.legend()\n",
    "    plt.show()"
   ]
  },
  {
   "cell_type": "code",
   "execution_count": 28,
   "metadata": {
    "collapsed": false
   },
   "outputs": [
    {
     "data": {
      "image/png": "[encoded data removed]",
      "text/plain": [
       "<matplotlib.figure.Figure at 0xdd89630>"
      ]
     },
     "metadata": {},
     "output_type": "display_data"
    }
   ],
   "source": [
    "features_performance(KNeighborsClassifier(n_neighbors=1),'KNN(k=1)')"
   ]
  },
  {
   "cell_type": "code",
   "execution_count": 32,
   "metadata": {
    "collapsed": false
   },
   "outputs": [
    {
     "data": {
      "image/png": "[encoded data removed]",
      "text/plain": [
       "<matplotlib.figure.Figure at 0xd5d76d8>"
      ]
     },
     "metadata": {},
     "output_type": "display_data"
    }
   ],
   "source": [
    "features_performance(SVC(kernel='rbf', C = 10),'SVM (C=10, rbf)')"
   ]
  },
  {
   "cell_type": "code",
   "execution_count": 33,
   "metadata": {
    "collapsed": false
   },
   "outputs": [
    {
     "data": {
      "image/png": "[encoded data removed]",
      "text/plain": [
       "<matplotlib.figure.Figure at 0xdc65240>"
      ]
     },
     "metadata": {},
     "output_type": "display_data"
    }
   ],
   "source": [
    "features_performance(AdaBoostClassifier(n_estimators=50),'AdaBoost(n=50)')"
   ]
  },
  {
   "cell_type": "markdown",
   "metadata": {},
   "source": [
    "From the figures above, AdaBoost works well even on smaller number of features; SVM has the highest F1 scores and precision scores in large samples; KNN performs well on certain combination of features. \n",
    "\n",
    "In this project I'll use KNN(k=1) as the final estimator. It has a good performance; and its runnig time is much less compared to SVM(C=10, rbf) and AdaBoost(50). "
   ]
  },
  {
   "cell_type": "markdown",
   "metadata": {},
   "source": [
    "## 6. Data leakage filters\n",
    "\n",
    "For this data set there's another way that I can think of to boost the performance of my algorithm: data leakage filters. Recall in the very beginnig of this report we have a list of NaN's in each variable:"
   ]
  },
  {
   "cell_type": "code",
   "execution_count": 21,
   "metadata": {
    "collapsed": false
   },
   "outputs": [
    {
     "name": "stdout",
     "output_type": "stream",
     "text": [
      "Feature name            ROP in NaNs  ROP in non-NaNs\n",
      "\n",
      "poi                             0/0      18/146\n",
      "salary                         1/51       17/95\n",
      "bonus                          2/64       16/82\n",
      "long_term_incentive            6/80       12/66\n",
      "deferred_income                7/97       11/49\n",
      "deferral_payments            13/107        5/39\n",
      "loan_advances                17/142         1/4\n",
      "other                          0/53       18/93\n",
      "expenses                       0/51       18/95\n",
      "director_fees                18/129        0/17\n",
      "total_payments                 0/21      18/125\n",
      "exercised_stock_options        6/44      12/102\n",
      "restricted_stock               1/36      17/110\n",
      "restricted_stock_deferred    18/128        0/18\n",
      "total_stock_value              0/20      18/126\n",
      "email_address                  0/35      18/111\n",
      "to_messages                    4/60       14/86\n",
      "from_messages                  4/60       14/86\n",
      "from_poi_to_this_person        4/60       14/86\n",
      "from_this_person_to_poi        4/60       14/86\n",
      "shared_receipt_with_poi        4/60       14/86\n"
     ]
    }
   ],
   "source": [
    "print((\"Feature name\").ljust(24) +  (\"ROP in NaNs\").rjust(9) + \"  ROP in non-NaNs\")\n",
    "print(\"\")\n",
    "\n",
    "for key in features_list:\n",
    "    ctr1 = 0\n",
    "    ctr2 = 0\n",
    "    ctr3 = 0\n",
    "    for row in data:\n",
    "        if (data[row][key] == \"NaN\"):\n",
    "            ctr1 += 1\n",
    "        if (data[row][key] == \"NaN\") and (data[row]['poi'] == True):\n",
    "            ctr2 += 1\n",
    "        if (data[row][key] != \"NaN\") and (data[row]['poi'] == True):\n",
    "                ctr3 += 1\n",
    "    print ((key).ljust(26)  + (str(ctr2)+\"/\"+str(ctr1)).rjust(9) +\n",
    "                (str(ctr3)+\"/\"+str(146 - ctr1)).rjust(12))"
   ]
  },
  {
   "cell_type": "markdown",
   "metadata": {},
   "source": [
    "The table above allows us to set some filters. Say, if the director_fees column of a person is not NaN, they we can guess it's likely that he's not a POI because all POIs in this set are NaN's. We can do similar guesses for other columns like 'other', 'expenses', and so on. Each time this haapens to a person, the safety counter for that person +=1. Once the value of the safety counter for that person hits, say, 2 or 3, we can guess that person is very likely to be a non-POI. I'm not going to implement the algorithm here (because the cross validation set of this project is basically some reordering and repetitions of the all the data we have, this filter could make perfect guesses on a large portion of the cross validation set)."
   ]
  },
  {
   "cell_type": "markdown",
   "metadata": {},
   "source": [
    "## 7. Reflection\n",
    "### 7.1 What else can be done?\n",
    "* Data Transformation<br/>\n",
    "Other than log transformation, We can aslo try square root transformation, cube root transformation ..  as well (on data with long tails). Then we can test to see if other transformations can produce better results.\n",
    "\n",
    "* Feature Scaling<br/>\n",
    "Besides standard deviation scaling, we can also try min/max scaling on features. One thing to notice is that I don't think it's a good idea to do min/max scaling if the difference of max - min for different features differ by a lot.  \n",
    "\n",
    "* Combination of estimators<br/>\n",
    "If we have many good estimators, we can use them to create combined estimators. Say we have estimator A, B, C, a new estimator will predict on 1 if at least two of A, B, C predict on 1. Same for 0. Or, if estimator A is very good at catching 1's (although it's precision score is not high), we can create a combined estimator to predict on 0 once estimator A predicts on 0, and predict on 1 for certain outputs of A, B, C. \n",
    "\n",
    "### 7.2 few thoughts and questions\n",
    "\n",
    "I'm curious about what other data scientists would do, like \n",
    "* On what situations they would create new features?<br/>\n",
    "* How many paramters they will tune for a specific classifier?<br/>\n",
    "* What paramters of classifier are worth to be tuned?<br/>\n",
    "* How to stirke a balance between time efficiency and classifier performance<br/>\n",
    "* Should we try different ways to do cross validations? Is there a guideline to decide how many pieces we should break our original data set and do cross validation? Is it a good idea to always use StratifiedShuffleSplit no matter how many data we have?<br/>\n",
    "* How do we claim that the final estimator we produced is a good estimator?"
   ]
  }
 ],
 "metadata": {
  "kernelspec": {
   "display_name": "Python 2",
   "language": "python",
   "name": "python2"
  },
  "language_info": {
   "codemirror_mode": {
    "name": "ipython",
    "version": 2.0
   },
   "file_extension": ".py",
   "mimetype": "text/x-python",
   "name": "python",
   "nbconvert_exporter": "python",
   "pygments_lexer": "ipython2",
   "version": "2.7.13"
  }
 },
 "nbformat": 4,
 "nbformat_minor": 0
}