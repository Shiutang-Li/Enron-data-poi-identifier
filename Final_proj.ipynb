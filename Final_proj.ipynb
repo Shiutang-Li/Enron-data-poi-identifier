{
 "cells": [
  {
   "cell_type": "markdown",
   "metadata": {},
   "source": [
    "# Identify fraud from Enron data set\n",
    "### by Shiu-Tang Li"
   ]
  },
  {
   "cell_type": "markdown",
   "metadata": {},
   "source": [
    "## 1. Introduction\n",
    "\n",
    "In 2000, Enron was one of the largest companies in the US, but soon it went bankruptcy due to corporate fraud. The goal of this project is use machine learning knowledge to build identifiers to predict who is a POI (person of interest) based on the Enron data set. POI means individuals who were indicted, reached a settlement or plea deal with the government, or testified in exchange for prosecution immunity. \n",
    "\n",
    "### 1.1 Data set quick overview \n",
    "\n",
    "The Enron data set used to build the machine learning prediction model in this report contains 146 personal data, with 21 features. These features are:\n",
    "\n",
    "#### A. POI (Person of interst) label: \n",
    "\n",
    "'poi': '1' means this person is POI. '0' means this person is NOT a POI. In this training data set there're 18 POIs.\n",
    "\n",
    "#### B. Financial features (all units are in US dollars): \n",
    "##### B.1 Payments \n",
    "Features include: 'salary', 'bonus', 'long_term_incentive', 'deferred_income', 'deferral_payments', 'loan_advances', 'other', 'expenses', 'director_fees', 'total_payments'.\n",
    "##### B.2 Stock Value \n",
    "Features include: 'exercised_stock_options',  'restricted_stock', 'restricted_stock_deferred', 'total_stock_value'. \n",
    "\n",
    "#### C. Email features: \n",
    "Features include: 'email_address', 'to_messages', 'from_messages', 'from_poi_to_this_person',   'from_this_person_to_poi', 'shared_receipt_with_poi'. \n",
    "\n",
    "'email_address' is a text string; units other than 'email_address' are number of emails messages. \n",
    "\n",
    "\n",
    "### 1.2 table of contents\n",
    "\n",
    "**2 Data cleaning **\n",
    "\n",
    "2.1 Missing values removal / interpretation <br />\n",
    "2.2 Removing other outliers\n",
    "\n",
    "**3 Tranformation of data set **\n",
    "\n",
    "3.1 New features<br />\n",
    "3.2 Logarithmic transformation of financial features <br />\n",
    "3.3 Feature scaling (substract by mean and then divide by standard dev)  \n",
    "\n",
    "** 4 Feature selection **\n",
    "\n",
    "** 5 Applying machine learning algorithms **\n",
    "\n",
    "5.1 Comparison of different algorithms <br />\n",
    "5.2 Adjusting number of features used\n",
    "\n",
    "** 6 Data leakage filters **\n",
    "\n",
    "** 7 Vaildation and evaluation**\n",
    "\n",
    "7.1 Evaluation metric <br />\n",
    "7.2 Cross validation methods \n",
    "\n",
    "** 8 Reflection **"
   ]
  },
  {
   "cell_type": "code",
   "execution_count": 42,
   "metadata": {
    "collapsed": false
   },
   "outputs": [
    {
     "data": {
      "text/html": [
       "<script>jQuery(function() {if (jQuery(\"body.notebook_app\").length == 0) { jQuery(\".input_area\").toggle(); jQuery(\".prompt\").toggle();}});</script>"
      ]
     },
     "metadata": {},
     "output_type": "display_data"
    },
    {
     "data": {
      "text/html": [
       "<button onclick=\"jQuery('.input_area').toggle(); jQuery('.prompt').toggle();\">Toggle code</button>"
      ]
     },
     "metadata": {},
     "output_type": "display_data"
    }
   ],
   "source": [
    "####  Snippet by Max Masnick       https://www.maxmasnick.com/\n",
    "####  Used to hide all codes\n",
    "\n",
    "import IPython.core.display as di\n",
    "\n",
    "# This line will hide code by default when the notebook is exported as HTML\n",
    "di.display_html('<script>jQuery(function() {if (jQuery(\"body.notebook_app\").length == 0) { jQuery(\".input_area\").toggle(); jQuery(\".prompt\").toggle();}});</script>', raw=True)\n",
    "\n",
    "# This line will add a button to toggle visibility of code blocks, for use with the HTML export version\n",
    "di.display_html('''<button onclick=\"jQuery('.input_area').toggle(); jQuery('.prompt').toggle();\">Toggle code</button>''', raw=True)"
   ]
  },
  {
   "cell_type": "markdown",
   "metadata": {},
   "source": [
    "## 2. Data cleaning\n",
    "\n",
    "In this section, I would perform analysis to figure out if the missing values are actually zeros, and if not how do I deal with these missing values. Then I'll check through the data set to see if there're any outliers that I better off dicarding them when I build models."
   ]
  },
  {
   "cell_type": "code",
   "execution_count": 2,
   "metadata": {
    "collapsed": false
   },
   "outputs": [],
   "source": [
    "import sys\n",
    "import pickle\n",
    "from copy import deepcopy\n",
    "import numpy as np\n",
    "import pandas as pd\n",
    "from sklearn.feature_selection import SelectKBest, f_classif, chi2\n",
    "from sklearn.naive_bayes import GaussianNB\n",
    "from sklearn import tree\n",
    "from sklearn.ensemble import AdaBoostClassifier\n",
    "from sklearn.linear_model import LogisticRegression\n",
    "from sklearn.svm import SVC\n",
    "from sklearn.ensemble import RandomForestClassifier\n",
    "from sklearn.neighbors import KNeighborsClassifier\n",
    "\n",
    "from sklearn.metrics import precision_score\n",
    "from sklearn.metrics import recall_score\n",
    "\n",
    "import matplotlib.pyplot as plt\n",
    "\n",
    "sys.path.append(\"../tools/\")\n",
    "\n",
    "from tester2 import test_classifier\n",
    "\n",
    "financial_feature = ['salary', 'bonus', 'long_term_incentive', 'deferred_income', \n",
    "                     'deferral_payments', 'loan_advances', 'other', 'expenses', \n",
    "                     'director_fees', 'total_payments',\n",
    "                     'exercised_stock_options', 'restricted_stock', \n",
    "                     'restricted_stock_deferred', 'total_stock_value']\n",
    "email_feature = ['to_messages', 'from_messages', \n",
    "                 'from_poi_to_this_person', 'from_this_person_to_poi', \n",
    "                 'shared_receipt_with_poi']\n",
    "features_list = ['poi'] +  financial_feature + ['email_address'] + email_feature\n",
    "features_list_no_email_no_poi = financial_feature + email_feature\n",
    "\n",
    "with open(\"final_project_dataset.pkl\", \"r\") as data_file:\n",
    "    data = pickle.load(data_file)"
   ]
  },
  {
   "cell_type": "markdown",
   "metadata": {},
   "source": [
    "### 2.1 Missing values removal / interpretation\n",
    "\n",
    "First, I do a quick analysis to check how many NaN's appear in each feature, and how many POI's appear in NaN group and non-NaN group. It turns out that there're a lot of NaNs."
   ]
  },
  {
   "cell_type": "code",
   "execution_count": 3,
   "metadata": {
    "collapsed": false
   },
   "outputs": [
    {
     "name": "stdout",
     "output_type": "stream",
     "text": [
      "ROP: ratio of number of POIs to number of people in group\n",
      "\n",
      "Feature name            ROP in NaNs  ROP in non-NaNs\n",
      "\n",
      "poi                             0/0      18/146\n",
      "salary                         1/51       17/95\n",
      "bonus                          2/64       16/82\n",
      "long_term_incentive            6/80       12/66\n",
      "deferred_income                7/97       11/49\n",
      "deferral_payments            13/107        5/39\n",
      "loan_advances                17/142         1/4\n",
      "other                          0/53       18/93\n",
      "expenses                       0/51       18/95\n",
      "director_fees                18/129        0/17\n",
      "total_payments                 0/21      18/125\n",
      "exercised_stock_options        6/44      12/102\n",
      "restricted_stock               1/36      17/110\n",
      "restricted_stock_deferred    18/128        0/18\n",
      "total_stock_value              0/20      18/126\n",
      "email_address                  0/35      18/111\n",
      "to_messages                    4/60       14/86\n",
      "from_messages                  4/60       14/86\n",
      "from_poi_to_this_person        4/60       14/86\n",
      "from_this_person_to_poi        4/60       14/86\n",
      "shared_receipt_with_poi        4/60       14/86\n"
     ]
    }
   ],
   "source": [
    "print(\"ROP: ratio of number of POIs to number of people in group\")\n",
    "print(\"\")\n",
    "print((\"Feature name\").ljust(24) +  (\"ROP in NaNs\").rjust(9) + \"  ROP in non-NaNs\")\n",
    "print(\"\")\n",
    "\n",
    "for key in features_list:\n",
    "    ctr1 = 0\n",
    "    ctr2 = 0\n",
    "    ctr3 = 0\n",
    "    for row in data:\n",
    "        if (data[row][key] == \"NaN\"):\n",
    "            ctr1 += 1\n",
    "        if (data[row][key] == \"NaN\") and (data[row]['poi'] == True):\n",
    "            ctr2 += 1\n",
    "        if (data[row][key] != \"NaN\") and (data[row]['poi'] == True):\n",
    "                ctr3 += 1\n",
    "    print ((key).ljust(26)  + (str(ctr2)+\"/\"+str(ctr1)).rjust(9) +\n",
    "                (str(ctr3)+\"/\"+str(146 - ctr1)).rjust(12))"
   ]
  },
  {
   "cell_type": "markdown",
   "metadata": {},
   "source": [
    "Let me check if there're any records which contains all NaNs. And there is one such record."
   ]
  },
  {
   "cell_type": "code",
   "execution_count": 4,
   "metadata": {
    "collapsed": false
   },
   "outputs": [
    {
     "name": "stdout",
     "output_type": "stream",
     "text": [
      "('LOCKHART EUGENE E', {'salary': 'NaN', 'to_messages': 'NaN', 'deferral_payments': 'NaN', 'total_payments': 'NaN', 'exercised_stock_options': 'NaN', 'bonus': 'NaN', 'restricted_stock': 'NaN', 'shared_receipt_with_poi': 'NaN', 'restricted_stock_deferred': 'NaN', 'total_stock_value': 'NaN', 'expenses': 'NaN', 'loan_advances': 'NaN', 'from_messages': 'NaN', 'other': 'NaN', 'from_this_person_to_poi': 'NaN', 'poi': False, 'director_fees': 'NaN', 'deferred_income': 'NaN', 'long_term_incentive': 'NaN', 'email_address': 'NaN', 'from_poi_to_this_person': 'NaN'})\n"
     ]
    }
   ],
   "source": [
    "for row in data:\n",
    "    NaNctr = 0\n",
    "    for key in features_list:\n",
    "        if data[row][key] == 'NaN':\n",
    "            NaNctr += 1\n",
    "    if NaNctr >= 20:\n",
    "        print(row, data[row])"
   ]
  },
  {
   "cell_type": "markdown",
   "metadata": {},
   "source": [
    "I'm wondering whether these NaNs are actually zeros but are just stored as NaNs. Let me first check if there're any zeros in each feature."
   ]
  },
  {
   "cell_type": "code",
   "execution_count": 5,
   "metadata": {
    "collapsed": false
   },
   "outputs": [
    {
     "name": "stdout",
     "output_type": "stream",
     "text": [
      "Feature name            Number of zeros\n",
      "poi                       128\n",
      "salary                    0\n",
      "bonus                     0\n",
      "long_term_incentive       0\n",
      "deferred_income           0\n",
      "deferral_payments         0\n",
      "loan_advances             0\n",
      "other                     0\n",
      "expenses                  0\n",
      "director_fees             0\n",
      "total_payments            0\n",
      "exercised_stock_options   0\n",
      "restricted_stock          0\n",
      "restricted_stock_deferred 0\n",
      "total_stock_value         0\n",
      "email_address             0\n",
      "to_messages               0\n",
      "from_messages             0\n",
      "from_poi_to_this_person   12\n",
      "from_this_person_to_poi   20\n",
      "shared_receipt_with_poi   0\n"
     ]
    }
   ],
   "source": [
    "print((\"Feature name\").ljust(24) +  (\"Number of zeros\").rjust(9))\n",
    "\n",
    "for key in features_list:\n",
    "    ctr = 0\n",
    "    for row in data:\n",
    "        if (data[row][key] == 0):\n",
    "            ctr += 1\n",
    "    print ((key).ljust(26)  + str(ctr))"
   ]
  },
  {
   "cell_type": "markdown",
   "metadata": {},
   "source": [
    "Now it seems like the NaNs in financial features are zeros, but the NaNs in email features are not (there're both zeros and NaNs in the dataset). So my next step is to replace NaNs in financial features with zeros, and then check for each record if the sum of all payments equals the total payment, and if the sum of all stock values equals total stock value."
   ]
  },
  {
   "cell_type": "code",
   "execution_count": 6,
   "metadata": {
    "collapsed": false
   },
   "outputs": [
    {
     "name": "stdout",
     "output_type": "stream",
     "text": [
      "('BELFER ROBERT', -99215, 102500)\n",
      "('BHATNAGAR SANJAY', 275728, 15456290)\n",
      "The number of matches of 'sum of all payments' and 'total payment': 144\n",
      "\n",
      "('BELFER ROBERT', 47378, -44093)\n",
      "('BHATNAGAR SANJAY', 15456290, 0)\n",
      "The number of matches of 'sum of all stock values' and 'total stock value': 144\n"
     ]
    }
   ],
   "source": [
    "# make a deep copy of the original dataset\n",
    "cleaned_data = deepcopy(data)\n",
    "\n",
    "# replace NaN with zero\n",
    "for person in cleaned_data:\n",
    "    for key in cleaned_data[person]:\n",
    "        for row in cleaned_data:\n",
    "            if (cleaned_data[row][key] == \"NaN\"):\n",
    "                cleaned_data[row][key] =0\n",
    "    break\n",
    "\n",
    "ctr_match = 0\n",
    "for i, key in enumerate(cleaned_data):\n",
    "    tot =(cleaned_data[key]['salary'] + \n",
    "          cleaned_data[key]['bonus'] +\n",
    "          cleaned_data[key]['long_term_incentive'] +\n",
    "          cleaned_data[key]['deferred_income'] +\n",
    "          cleaned_data[key]['deferral_payments'] +\n",
    "          cleaned_data[key]['loan_advances'] +\n",
    "          cleaned_data[key]['other'] +\n",
    "          cleaned_data[key]['expenses'] +\n",
    "          cleaned_data[key]['director_fees'])\n",
    "    if tot ==  cleaned_data[key]['total_payments']:\n",
    "        ctr_match += 1\n",
    "    if tot !=  cleaned_data[key]['total_payments']:\n",
    "        print(key, tot, cleaned_data[key]['total_payments'])\n",
    "\n",
    "print(\"The number of matches of 'sum of all payments' and 'total payment': \" + str(ctr_match))\n",
    "print(\"\")\n",
    "\n",
    "ctr_match = 0\n",
    "for i, key in enumerate(cleaned_data):\n",
    "    tot =(cleaned_data[key]['exercised_stock_options'] + \n",
    "          cleaned_data[key]['restricted_stock'] +\n",
    "          cleaned_data[key]['restricted_stock_deferred'])\n",
    "    if tot ==  cleaned_data[key]['total_stock_value']:\n",
    "        ctr_match += 1\n",
    "    if tot !=  cleaned_data[key]['total_stock_value']:\n",
    "        print(key, tot, cleaned_data[key]['total_stock_value'])\n",
    "\n",
    "print(\"The number of matches of 'sum of all stock values' and 'total stock value': \" + str(ctr_match))"
   ]
  },
  {
   "cell_type": "markdown",
   "metadata": {},
   "source": [
    "Seems like my guess is right (Only two records don't match). The detailed information of the 2 weird records are shown below. It doesn't seem like there's an easy way to fix it, and they're not POIs."
   ]
  },
  {
   "cell_type": "code",
   "execution_count": 7,
   "metadata": {
    "collapsed": false
   },
   "outputs": [
    {
     "name": "stdout",
     "output_type": "stream",
     "text": [
      "feature name           BELFER ROBERT             BHATNAGAR SANJAY\n",
      "poi                            False                        False\n",
      "salary                           NaN                          NaN\n",
      "bonus                            NaN                          NaN\n",
      "long_term_incentive              NaN                          NaN\n",
      "deferred_income                  NaN                          NaN\n",
      "deferral_payments            -102500                          NaN\n",
      "loan_advances                    NaN                          NaN\n",
      "other                            NaN                       137864\n",
      "expenses                         NaN                          NaN\n",
      "director_fees                   3285                       137864\n",
      "total_payments                102500                     15456290\n",
      "exercised_stock_options         3285                      2604490\n",
      "restricted_stock                 NaN                     -2604490\n",
      "restricted_stock_deferred      44093                     15456290\n",
      "total_stock_value             -44093                          NaN\n",
      "email_address                    NaN   sanjay.bhatnagar@enron.com\n",
      "to_messages                      NaN                          523\n",
      "from_messages                    NaN                           29\n",
      "from_poi_to_this_person          NaN                            0\n",
      "from_this_person_to_poi          NaN                            1\n",
      "shared_receipt_with_poi          NaN                          463\n",
      "\n"
     ]
    }
   ],
   "source": [
    "print('feature name'.ljust(23) + 'BELFER ROBERT' + 'BHATNAGAR SANJAY'.rjust(29))\n",
    "\n",
    "for key in features_list:\n",
    "    print((key).ljust(26) +  str(data['BELFER ROBERT'][key]).rjust(10) \n",
    "          + str(data['BHATNAGAR SANJAY'][key]).rjust(29) )\n",
    "print(\"\")"
   ]
  },
  {
   "cell_type": "markdown",
   "metadata": {},
   "source": [
    "### 2.2 Removing other outliers\n",
    "Other than the 3 wrong records above, let's check if there're any outliers. First I would like to take a look at the major statistics for each feature in the current dataset (NaNs are replaced with zeros, 3 wrong records are deleted). Two of the features contain only nonpositive values; the others contain only nonnegative values. "
   ]
  },
  {
   "cell_type": "code",
   "execution_count": 8,
   "metadata": {
    "collapsed": true
   },
   "outputs": [],
   "source": [
    "del cleaned_data['LOCKHART EUGENE E']\n",
    "del cleaned_data['BELFER ROBERT']\n",
    "del cleaned_data['BHATNAGAR SANJAY']"
   ]
  },
  {
   "cell_type": "code",
   "execution_count": 9,
   "metadata": {
    "collapsed": false
   },
   "outputs": [
    {
     "name": "stdout",
     "output_type": "stream",
     "text": [
      "feature name                     min        max     median         mean          stdev  stdev/|mean|\n",
      "\n",
      "salary                             0   26704229   211788.0    373485.72     2218285.11   5.94\n",
      "bonus                              0   97343619   300000.0   1361449.22      8148097.5   5.98\n",
      "long_term_incentive                0   48521928        0.0    678628.36     4073106.47    6.0\n",
      "deferred_income            -27992891          0        0.0   -390792.18      2394168.0   6.13\n",
      "deferral_payments                  0   32083396        0.0    448718.83     2759552.01   6.15\n",
      "loan_advances                      0   83925000        0.0   1173776.22     9715128.75   8.28\n",
      "other                              0   42667589      972.0     596749.5      3707153.2   6.21\n",
      "expenses                           0    5235198    22344.0      72232.5      435608.76   6.03\n",
      "director_fees                      0    1398517        0.0      18842.9       119454.0   6.34\n",
      "total_payments                     0  309886585   966522.0   4333091.06    27101498.71   6.25\n",
      "\n",
      "exercised_stock_options            0  311764000   608750.0   4252249.72    26246996.26   6.17\n",
      "restricted_stock                   0  130322299   363428.0   1804167.94     10967783.7   6.08\n",
      "restricted_stock_deferred   -7576788          0        0.0     -87447.5      650978.37   7.44\n",
      "total_stock_value                  0  434509511   985032.0   5968970.15    36489323.43   6.11\n",
      "\n",
      "to_messages                        0      15149      312.0      1243.56        2236.76    1.8\n",
      "from_messages                      0      14368       17.0       365.92         1450.4   3.96\n",
      "from_poi_to_this_person            0        528        4.0        39.03          74.21    1.9\n",
      "from_this_person_to_poi            0        609        0.0        24.79          79.75   3.22\n",
      "shared_receipt_with_poi            0       5521      114.0       704.29         1077.1   1.53\n"
     ]
    }
   ],
   "source": [
    "data_dictionary = {}\n",
    "for key in features_list_no_email_no_poi:\n",
    "    feature_data = []\n",
    "    for person in cleaned_data:\n",
    "        feature_data.append(cleaned_data[person][key])\n",
    "    data_dictionary[key] = feature_data       \n",
    "        \n",
    "print(\"feature name\".ljust(26) +  \"min\".rjust(10)\n",
    "        + \"max\".rjust(11) + \"median\".rjust(11) +  \"mean\".rjust(13) +  \"stdev\".rjust(15)\n",
    "        + \"  stdev/|mean|\")\n",
    "print(\"\")\n",
    "\n",
    "for key in features_list_no_email_no_poi:\n",
    "    print((key).ljust(26) +  str(min(data_dictionary[key])).rjust(10)\n",
    "        + str(max(data_dictionary[key])).rjust(11)\n",
    "        + str(np.median(data_dictionary[key])).rjust(11)  \n",
    "        + str( round(np.mean(data_dictionary[key]) ,2)).rjust(13)\n",
    "        + str( round(np.std(data_dictionary[key]) ,2)).rjust(15)\n",
    "        + str( round(np.std(data_dictionary[key]) / abs(np.mean(data_dictionary[key])) ,2)).rjust(7))\n",
    "    if (key == 'total_payments') or (key == 'total_stock_value'):\n",
    "        print(\"\")"
   ]
  },
  {
   "cell_type": "markdown",
   "metadata": {},
   "source": [
    "Frmo the table above we can see the maximums are way more than mediums for those financial features. There might be some outliers over there. \n",
    "\n",
    "I first check for each record, how many variables of that record go beyond [mean - 3\\*stdev, mean + 3\\*stdev]. I would like to print out the person names with at least two features that go beyond the range above. Whoops: Why are you here, 'TOTAL'? This dude has to be removed."
   ]
  },
  {
   "cell_type": "code",
   "execution_count": 10,
   "metadata": {
    "collapsed": false
   },
   "outputs": [
    {
     "name": "stdout",
     "output_type": "stream",
     "text": [
      "('KEAN STEVEN J', 3)\n",
      "('LAY KENNETH L', 2)\n",
      "('SHAPIRO RICHARD S', 2)\n",
      "('LAVORATO JOHN J', 3)\n",
      "('BELDEN TIMOTHY N', 2)\n",
      "('TOTAL', 14)\n"
     ]
    }
   ],
   "source": [
    "threshold = 3   # standard deviation\n",
    "outlier_dict = {}\n",
    "for key in features_list_no_email_no_poi:\n",
    "    upper_bound = (np.mean(data_dictionary[key]) + (threshold * np.std(data_dictionary[key])))\n",
    "    lower_bound = (np.mean(data_dictionary[key]) - (threshold * np.std(data_dictionary[key])))\n",
    "    for person in cleaned_data:\n",
    "        if ((cleaned_data[person][key] > upper_bound) or\n",
    "           (cleaned_data[person][key] < lower_bound)):\n",
    "            if person not in outlier_dict:\n",
    "                outlier_dict[person] = 1\n",
    "            else:\n",
    "                outlier_dict[person] += 1\n",
    "\n",
    "for key in outlier_dict:\n",
    "    if outlier_dict[key] >= 2:\n",
    "        print(key, outlier_dict[key])"
   ]
  },
  {
   "cell_type": "code",
   "execution_count": 11,
   "metadata": {
    "collapsed": false
   },
   "outputs": [],
   "source": [
    "del cleaned_data['TOTAL']"
   ]
  },
  {
   "cell_type": "markdown",
   "metadata": {},
   "source": [
    "So we removed a total of 4 records. Because these are all 'wrong' records, so it's OK to remove them from both the training set and the test set. If they're not wrong but just look weird, then we should only remove those from the training set but not the test set. Let's look again the final cleaned data set statistics:"
   ]
  },
  {
   "cell_type": "code",
   "execution_count": 12,
   "metadata": {
    "collapsed": false
   },
   "outputs": [
    {
     "name": "stdout",
     "output_type": "stream",
     "text": [
      "feature name                     min        max     median         mean          stdev  stdev/|mean|\n",
      "\n",
      "salary                             0    1111258   211240.0    188057.95      196488.74   1.04\n",
      "bonus                              0    8000000   300000.0    685518.44     1234849.77    1.8\n",
      "long_term_incentive                0    5145434        0.0    341703.72      688421.16   2.01\n",
      "deferred_income             -3504386          0        0.0    -196411.2      607700.55   3.09\n",
      "deferral_payments                  0    6426990        0.0    225939.41      756022.06   3.35\n",
      "loan_advances                      0   81525000        0.0    591021.13     6817998.23  11.54\n",
      "other                              0   10359729      959.5    300475.98     1134686.23   3.78\n",
      "expenses                           0     228763    21937.0     35873.58       45271.59   1.26\n",
      "director_fees                      0     125034        0.0      9126.88       29502.72   3.23\n",
      "total_payments                     0  103559793   941359.5   2181305.89     8806137.06   4.04\n",
      "\n",
      "exercised_stock_options            0   34348384   608293.5   2086674.01     4809008.35    2.3\n",
      "restricted_stock                   0   14761694   361978.0    899110.68     2001002.69   2.23\n",
      "restricted_stock_deferred   -1787380          0        0.0    -34705.67      170217.19    4.9\n",
      "total_stock_value                  0   49110078   980534.5   2951079.02     6200880.06    2.1\n",
      "\n",
      "to_messages                        0      15149      347.5      1252.32        2242.18   1.79\n",
      "from_messages                      0      14368       17.5        368.5        1455.18   3.95\n",
      "from_poi_to_this_person            0        528        5.5         39.3          74.39   1.89\n",
      "from_this_person_to_poi            0        609        0.0        24.96          80.01    3.2\n",
      "shared_receipt_with_poi            0       5521      114.0       709.25        1079.26   1.52\n"
     ]
    }
   ],
   "source": [
    "data_dictionary = {}\n",
    "for key in features_list_no_email_no_poi:\n",
    "    feature_data = []\n",
    "    for person in cleaned_data:\n",
    "        feature_data.append(cleaned_data[person][key])\n",
    "    data_dictionary[key] = feature_data       \n",
    "        \n",
    "print(\"feature name\".ljust(26) +  \"min\".rjust(10)\n",
    "        + \"max\".rjust(11) + \"median\".rjust(11) +  \"mean\".rjust(13) +  \"stdev\".rjust(15)\n",
    "        + \"  stdev/|mean|\")\n",
    "print(\"\")\n",
    "\n",
    "for key in features_list_no_email_no_poi:\n",
    "    print((key).ljust(26) +  str(min(data_dictionary[key])).rjust(10)\n",
    "        + str(max(data_dictionary[key])).rjust(11)\n",
    "        + str(np.median(data_dictionary[key])).rjust(11)  \n",
    "        + str( round(np.mean(data_dictionary[key]) ,2)).rjust(13)\n",
    "        + str( round(np.std(data_dictionary[key]) ,2)).rjust(15)\n",
    "        + str( round(np.std(data_dictionary[key]) / abs(np.mean(data_dictionary[key])) ,2)).rjust(7))\n",
    "    if (key == 'total_payments') or (key == 'total_stock_value'):\n",
    "        print(\"\")"
   ]
  },
  {
   "cell_type": "markdown",
   "metadata": {},
   "source": [
    "## 3. Tranformation of data set\n",
    "\n",
    "In this section I will do a few transformations on the dataset in preparation for the machine learing algorithms coming afterwards. I would create new features, perform log transformation on financial features, and do feature scalings."
   ]
  },
  {
   "cell_type": "markdown",
   "metadata": {},
   "source": [
    "### 3.1 New features\n",
    "\n",
    "I'm wondering if someone has frequent communications with POI, then he / she might be likely a POI  as well. But that should be divided by the number of total emails sent / received. So the new feature is\n",
    "\n",
    "$$ \\mbox{poi_communication} = \\frac{\\mbox{from_poi_to_this_person} + \\mbox{from_this_person_to_poi} }{\\mbox{to_messages} + \\mbox{from_messages} } $$\n",
    "\n",
    "which is set to zero if the denominator is 0."
   ]
  },
  {
   "cell_type": "code",
   "execution_count": 13,
   "metadata": {
    "collapsed": true
   },
   "outputs": [],
   "source": [
    "for person in cleaned_data:\n",
    "    if cleaned_data[person]['to_messages'] == 0 and cleaned_data[person]['from_messages'] ==0:\n",
    "        cleaned_data[person]['poi_communication'] = 0\n",
    "    else:\n",
    "        a = float(cleaned_data[person]['from_messages'])\n",
    "        b = float(cleaned_data[person]['to_messages'])\n",
    "        c = float(cleaned_data[person]['from_poi_to_this_person'])\n",
    "        d = float(cleaned_data[person]['from_this_person_to_poi'])\n",
    "        cleaned_data[person]['poi_communication'] =  ((c + d) / (a + b))  "
   ]
  },
  {
   "cell_type": "code",
   "execution_count": 14,
   "metadata": {
    "collapsed": false
   },
   "outputs": [],
   "source": [
    "features_list = features_list +['poi_communication']\n",
    "features_list_no_email_no_poi = features_list_no_email_no_poi + ['poi_communication']"
   ]
  },
  {
   "cell_type": "markdown",
   "metadata": {},
   "source": [
    "### 3.2 Logarithmic transformation of financial features\n",
    "\n",
    "In order to reduce the effect of lagre values, I decide to perform the log transformation \n",
    "\n",
    "$$\\mbox{new value} = sign(\\mbox{old value}) \\cdot \\log_{10}(\\left|\\mbox{old value}\\right| + 1),$$\n",
    "\n",
    "on all financial features. The log transform is pretty common when we model financial quantities."
   ]
  },
  {
   "cell_type": "code",
   "execution_count": 15,
   "metadata": {
    "collapsed": false
   },
   "outputs": [],
   "source": [
    "# Before doing all the transformations, let's put the cleaned data set \n",
    "# (which is a dictionary) in a dataframe first.\n",
    "\n",
    "data_dictionary = {}\n",
    "for key in features_list:\n",
    "    feature_data = []\n",
    "    for person in cleaned_data:\n",
    "        feature_data.append(cleaned_data[person][key])\n",
    "    data_dictionary[key] = feature_data\n",
    "\n",
    "name_list = []\n",
    "for person in cleaned_data:\n",
    "    name_list.append(person)    \n",
    "data_dictionary['name'] = name_list\n",
    "\n",
    "df = pd.DataFrame(data_dictionary)\n",
    "df = df[(['name'] + features_list)]"
   ]
  },
  {
   "cell_type": "code",
   "execution_count": 16,
   "metadata": {
    "collapsed": false
   },
   "outputs": [],
   "source": [
    "# log transformation on financial features\n",
    "for key in financial_feature:\n",
    "    df[key] = (np.sign(df[key]) \n",
    "             * np.log10(abs(df[key]) + 1)) "
   ]
  },
  {
   "cell_type": "markdown",
   "metadata": {},
   "source": [
    "### 3.3 Feature scaling (substract by mean and then divide by standard dev):\n",
    "\n",
    "The next step is feature scaling. The reason to perform feature scaling is to make sure different features have equal importance (although this may not be the case in reality)."
   ]
  },
  {
   "cell_type": "code",
   "execution_count": 17,
   "metadata": {
    "collapsed": false
   },
   "outputs": [],
   "source": [
    "for key in features_list_no_email_no_poi:\n",
    "    df[key] = (df[key] - np.mean(df[key])) / np.std(df[key])\n",
    "\n",
    "# (max / min scaling)    \n",
    "# for key in features_list_no_email_no_poi:\n",
    "# df[key] = (df[key] - np.min(df[key])) / (np.max(df[key]) - np.min(df[key]))"
   ]
  },
  {
   "cell_type": "code",
   "execution_count": 18,
   "metadata": {
    "collapsed": false
   },
   "outputs": [
    {
     "name": "stdout",
     "output_type": "stream",
     "text": [
      "** The new data set after all features are scaled **\n",
      "\n",
      "feature name                       min         max      median        mean\n",
      "salary                          -1.389      0.9757      0.6937        -0.0\n",
      "bonus                          -1.1463      1.2095      0.7229         0.0\n",
      "long_term_incentive            -0.9142      1.4499     -0.9142         0.0\n",
      "deferred_income                -1.9272         0.7         0.7        -0.0\n",
      "deferral_payments              -0.5867      2.2177     -0.5867         0.0\n",
      "loan_advances                  -0.1453      8.0943     -0.1453        -0.0\n",
      "other                          -1.1739      1.8036      0.0919        -0.0\n",
      "expenses                       -1.3668      1.0878      0.6214         0.0\n",
      "director_fees                  -0.3303      3.1435     -0.3303        -0.0\n",
      "total_payments                 -2.3055      1.3654      0.4304         0.0\n",
      "\n",
      "exercised_stock_options        -1.4892      1.1735      0.5545        -0.0\n",
      "restricted_stock               -1.7542      1.1302      0.4822         0.0\n",
      "restricted_stock_deferred      -3.4978      0.3423      0.3423         0.0\n",
      "total_stock_value              -2.5253       1.123      0.3167        -0.0\n",
      "\n",
      "to_messages                    -0.5585      6.1979     -0.4035        -0.0\n",
      "from_messages                  -0.2532      9.6205     -0.2412        -0.0\n",
      "from_poi_to_this_person        -0.5283      6.5691     -0.4544         0.0\n",
      "from_this_person_to_poi         -0.312      7.2998      -0.312        -0.0\n",
      "shared_receipt_with_poi        -0.6572      4.4584     -0.5515         0.0\n",
      "poi_communication               -0.674      4.5617     -0.4614        -0.0\n"
     ]
    }
   ],
   "source": [
    "print(\"** The new data set after all features are scaled **\")\n",
    "print(\"\")\n",
    "print(\"feature name\".ljust(26) +  \"min\".rjust(12)\n",
    "        + \"max\".rjust(12) + \"median\".rjust(12) +  \"mean\".rjust(12))\n",
    "\n",
    "for key in df.columns:\n",
    "    if (key != 'email_address') and (key != 'poi') and (key != 'name'):\n",
    "        print((key).ljust(26) \n",
    "          + str( round(min(df[key]),4)).rjust(12)\n",
    "          + str( round(max(df[key]),4)).rjust(12)\n",
    "          + str( round(np.median(df[key]),4)).rjust(12) \n",
    "          + str( round(np.mean(df[key]) ,4)).rjust(12))\n",
    "    if (key == 'total_payments') or (key == 'total_stock_value'):\n",
    "        print(\"\")"
   ]
  },
  {
   "cell_type": "code",
   "execution_count": 19,
   "metadata": {
    "collapsed": true
   },
   "outputs": [],
   "source": [
    "# now the data is ready. Convert the pandas dataframe back to my_dataset, which is a dictionary.\n",
    "final_df = deepcopy(df)\n",
    "temp_data = final_df[features_list].as_matrix()\n",
    "names = final_df['name'].as_matrix()\n",
    "my_dataset = {}\n",
    "for i, name in enumerate(names):\n",
    "    my_dataset[name] = {}\n",
    "    for j, feature in enumerate(features_list):\n",
    "        my_dataset[name][feature] = temp_data[i][j]"
   ]
  },
  {
   "cell_type": "markdown",
   "metadata": {},
   "source": [
    "## 4. Feature selection\n",
    "\n",
    "In this section I'll use the SelectKBest module to find the features I need to train machine learning models. The first step is to convert the dataframe to numpy ndarrays. "
   ]
  },
  {
   "cell_type": "code",
   "execution_count": 20,
   "metadata": {
    "collapsed": true
   },
   "outputs": [],
   "source": [
    "X =  df[features_list_no_email_no_poi].as_matrix()\n",
    "y =  df['poi'].as_matrix()\n",
    "y = y.astype(int)  # [True, False] -> [1, 0]"
   ]
  },
  {
   "cell_type": "markdown",
   "metadata": {},
   "source": [
    "The table below shows the f_classif score and chi2 score for each feature (the higher the better). It happens that both scores of the same ranking for all features. For the analysis of the next section I'll discard features with low scores while not discarding too many features (this is surjective but let's do it for now) and select the top 13 features (out of 19 features), and then I'll do some adjustments later."
   ]
  },
  {
   "cell_type": "code",
   "execution_count": 21,
   "metadata": {
    "collapsed": false
   },
   "outputs": [
    {
     "name": "stdout",
     "output_type": "stream",
     "text": [
      "                 feature name  f_classif   chi2  f rank  c rank  total rank\n",
      "0                      salary      9.079  2.162       4       4           4\n",
      "1                       bonus     11.306  2.653       3       3           3\n",
      "2         long_term_incentive      4.675  1.147      12      12          12\n",
      "3             deferred_income      7.856  1.886       6       6           6\n",
      "4           deferral_payments      0.000  0.000      20      20          20\n",
      "5               loan_advances      2.012  0.503      16      16          16\n",
      "6                       other     16.155  3.673       1       1           1\n",
      "7                    expenses     13.641  3.152       2       2           2\n",
      "8               director_fees      2.252  0.562      15      15          15\n",
      "9              total_payments      6.660  1.612       7       7           7\n",
      "10    exercised_stock_options      0.100  0.025      19      19          19\n",
      "11           restricted_stock      6.019  1.463       9       9           9\n",
      "12  restricted_stock_deferred      2.422  0.604      13      13          13\n",
      "13          total_stock_value      6.164  1.497       8       8           8\n",
      "14                to_messages      1.611  0.404      17      17          17\n",
      "15              from_messages      0.175  0.044      18      18          18\n",
      "16    from_poi_to_this_person      5.142  1.258      11      11          11\n",
      "17    from_this_person_to_poi      2.340  0.584      14      14          14\n",
      "18    shared_receipt_with_poi      8.495  2.031       5       5           5\n",
      "19          poi_communication      5.285  1.291      10      10          10\n"
     ]
    }
   ],
   "source": [
    "selector_1 = SelectKBest(score_func = f_classif, k=19).fit(X, y)\n",
    "scores_1 = selector_1.scores_\n",
    "\n",
    "selector_2 = SelectKBest(score_func = chi2, k=19).fit(X+4, y)\n",
    "scores_2 = selector_2.scores_\n",
    "\n",
    "score_df = pd.DataFrame({'feature name':features_list_no_email_no_poi,  'f_classif': scores_1, 'chi2': scores_2}) \n",
    "score_df = score_df[['feature name', 'f_classif', 'chi2']]\n",
    "\n",
    "score_df['f_classif'] =  score_df.apply(lambda x: round(x['f_classif'] ,3) , axis=1)\n",
    "score_df['chi2'] =  score_df.apply(lambda x: round(x['chi2'] ,3) , axis=1)\n",
    "\n",
    "score_df['f rank'] = score_df['f_classif'].rank(ascending=0).astype(int) \n",
    "score_df['c rank'] = score_df['chi2'].rank(ascending=0).astype(int) \n",
    "score_df['total rank'] = (score_df['f rank'] + score_df['c rank'] - 0.01*score_df['chi2']).rank(ascending=1).astype(int) \n",
    "print(score_df)\n",
    "#A_new = selector.transform(new)"
   ]
  },
  {
   "cell_type": "code",
   "execution_count": 22,
   "metadata": {
    "collapsed": false
   },
   "outputs": [],
   "source": [
    "# A function used to select top features\n",
    "def top_feature_list(n):\n",
    "    features_to_be_used = []\n",
    "    for i , row in score_df.iterrows():\n",
    "        if row['total rank'] <= n:\n",
    "            features_to_be_used.append(row['feature name'])\n",
    "    return(features_to_be_used)"
   ]
  },
  {
   "cell_type": "markdown",
   "metadata": {},
   "source": [
    "## 5. Applying machine learning algorithms"
   ]
  },
  {
   "cell_type": "markdown",
   "metadata": {},
   "source": [
    "\n",
    "### 5.1 Comparison of different algorithms\n",
    "There're tons of machine learning algortihms out there for us to use. For this project I'll make my decision based on the following flow chart:\n",
    "<img src=\"ml_map.png\">"
   ]
  },
  {
   "cell_type": "markdown",
   "metadata": {},
   "source": [
    "As a result, besides the basic algorithms (Gaussian naive bayes, logistic regression, decision trees), I'll also test these ones: <br />\n",
    "(1) Linear support vector machine  [tune: Penalty parameter C] <br />\n",
    "(2) K-nearest neighbors    [tune: n_neighbors] <br />\n",
    "(3) Support vector machine with rbf kernel      [tune: Penalty parameter C] <br />\n",
    "(4) Random forests    [tune: n_estimators, max_depth] <br />\n",
    "(5) Adaboost      [tune: n_estimators] <br />\n",
    "\n",
    "The parameters for the above algorthims are tuned manually. The reason for parameter tuning is that we would like to find the best fit of algorithms. No one really knows what the perfect model is, and parameter tuning is process that we try to approach perfectness as best as we can. \n",
    "\n",
    "I'll first check which class of algorithms has the best performance (precision / recall / F1) using sklearn.model_selection.StratifiedShuffleSplit. Then for this best performance class I'll do more parameter tuning / go back to feature selection step to see if I wanna add in or delete features."
   ]
  },
  {
   "cell_type": "code",
   "execution_count": 25,
   "metadata": {
    "collapsed": false
   },
   "outputs": [],
   "source": [
    "train_list = top_feature_list(13)"
   ]
  },
  {
   "cell_type": "code",
   "execution_count": 26,
   "metadata": {
    "collapsed": false
   },
   "outputs": [
    {
     "name": "stdout",
     "output_type": "stream",
     "text": [
      "                                           Random seed 42       Random seed 52       Random seed 62\n",
      "Classifier name                           Pr     Re     F1     Pr     Re     F1     Pr     Re     F1\n",
      "Gaussian naive Bayes                   0.265  0.942  0.413  0.266   0.94  0.414  0.262  0.933  0.409\n",
      "Logistic regression                    0.523  0.225  0.314  0.539   0.23  0.322   0.55  0.233  0.327\n",
      "Decision Tree (max_depth=4)            0.274  0.211  0.239   0.27  0.194  0.226  0.267  0.216  0.239\n",
      "Decision Tree (max_depth=6)            0.243  0.221  0.231   0.24  0.207  0.222  0.237  0.226  0.231\n",
      "Decision Tree (max_depth=8)            0.238   0.23  0.234  0.244  0.222  0.232  0.242   0.24  0.241\n",
      "SVM (C=3, linear)                      0.449  0.249  0.321  0.445  0.252  0.321  0.456   0.26  0.331\n",
      "SVM (C=5, linear)                       0.44  0.258  0.325  0.432  0.251  0.318  0.437  0.261  0.326\n",
      "SVM (C=10, linear)                     0.418  0.254  0.315  0.421  0.255  0.318  0.417  0.257  0.318\n",
      "SVM (C=100, linear)                    0.399  0.256  0.312  0.399  0.259  0.314  0.396  0.265  0.317\n",
      "SVM (C=3, rbf)                         0.602  0.328  0.425  0.591  0.309  0.406  0.606  0.315  0.414\n",
      "SVM (C=5, rbf)                         0.593  0.327  0.421  0.583  0.304    0.4  0.592  0.318  0.413\n",
      "SVM (C=10, rbf)                        0.573  0.374  0.453   0.57  0.349  0.433  0.563  0.363  0.441\n",
      "SVM (C=100, rbf)                       0.464  0.404  0.432  0.456  0.377  0.412  0.466  0.395  0.427\n",
      "KNN (k = 1)                            0.462  0.395  0.426  0.445  0.377  0.408   0.47  0.383  0.422\n",
      "KNN (k = 2)                            0.534  0.165  0.252  0.539  0.167  0.255  0.576  0.176   0.27\n",
      "KNN (k = 3)                             0.53  0.352  0.423  0.524   0.33  0.405   0.55  0.352   0.43\n",
      "KNN (k = 4)                             0.61  0.209  0.311  0.628  0.203  0.307  0.638   0.21  0.317\n"
     ]
    }
   ],
   "source": [
    "classifier_names = ['Gaussian naive Bayes', 'Logistic regression', \n",
    "                    'Decision Tree (max_depth=4)',\n",
    "                    'Decision Tree (max_depth=6)',\n",
    "                    'Decision Tree (max_depth=8)',\n",
    "                    'SVM (C=3, linear)', 'SVM (C=5, linear)',\n",
    "                    'SVM (C=10, linear)', 'SVM (C=100, linear)',\n",
    "                    'SVM (C=3, rbf)', 'SVM (C=5, rbf)',\n",
    "                    'SVM (C=10, rbf)', 'SVM (C=100, rbf)',\n",
    "                    'KNN (k = 1)', 'KNN (k = 2)', 'KNN (k = 3)', 'KNN (k = 4)',\n",
    "                   ]\n",
    "\n",
    "classifier_list = [\n",
    "    GaussianNB(),\n",
    "    LogisticRegression(),\n",
    "    tree.DecisionTreeClassifier(max_depth=4),\n",
    "    tree.DecisionTreeClassifier(max_depth=6),\n",
    "    tree.DecisionTreeClassifier(max_depth=8),\n",
    "    SVC(kernel= 'linear', C = 3),\n",
    "    SVC(kernel= 'linear', C = 5),\n",
    "    SVC(kernel= 'linear', C = 10),\n",
    "    SVC(kernel= 'linear', C = 100),\n",
    "    SVC(kernel='rbf', C = 3),\n",
    "    SVC(kernel='rbf', C = 5),\n",
    "    SVC(kernel='rbf', C = 10),\n",
    "    SVC(kernel='rbf', C = 100),\n",
    "    KNeighborsClassifier(n_neighbors=1),\n",
    "    KNeighborsClassifier(n_neighbors=2),\n",
    "    KNeighborsClassifier(n_neighbors=3),\n",
    "    KNeighborsClassifier(n_neighbors=4),\n",
    "]\n",
    "\n",
    "\n",
    "print(\"\".ljust(36) + \"Random seed 42\".rjust(21) + \"Random seed 52\".rjust(21) \n",
    "      + \"Random seed 62\".rjust(21))\n",
    "print(\"Classifier name\".ljust(36) \n",
    "       + \"Pr\".rjust(8) + \"Re\".rjust(7) + \"F1\".rjust(7)\n",
    "       + \"Pr\".rjust(7) + \"Re\".rjust(7) + \"F1\".rjust(7)\n",
    "       + \"Pr\".rjust(7) + \"Re\".rjust(7) + \"F1\".rjust(7))\n",
    "for i, name in enumerate(classifier_names):\n",
    "    clf = classifier_list[i]\n",
    "    p1, r1, f1 = test_classifier(clf, my_dataset, (['poi'] + train_list))\n",
    "    p2, r2, f2 = test_classifier(clf, my_dataset, (['poi'] + train_list), rs = 52)\n",
    "    p3, r3, f3 = test_classifier(clf, my_dataset, (['poi'] + train_list), rs = 62)\n",
    "    print(str(name).ljust(36) \n",
    "        + str(round(p1,3)).rjust(8)\n",
    "        + str(round(r1,3)).rjust(7)\n",
    "        + str(round(f1,3)).rjust(7) \n",
    "        + str(round(p2,3)).rjust(7)\n",
    "        + str(round(r2,3)).rjust(7)\n",
    "        + str(round(f2,3)).rjust(7)\n",
    "        + str(round(p3,3)).rjust(7)\n",
    "        + str(round(r3,3)).rjust(7)\n",
    "        + str(round(f3,3)).rjust(7))"
   ]
  },
  {
   "cell_type": "code",
   "execution_count": 27,
   "metadata": {
    "collapsed": false
   },
   "outputs": [
    {
     "name": "stdout",
     "output_type": "stream",
     "text": [
      "                                           Random seed 42       Random seed 52       Random seed 62\n",
      "Classifier name                           Pr     Re     F1     Pr     Re     F1     Pr     Re     F1\n",
      "Random forest (n=10, max_depth=4)      0.371  0.129  0.191  0.351  0.122  0.181  0.341  0.117  0.175\n",
      "Random forest (n=10, max_depth=6)      0.362   0.13  0.191  0.346   0.13  0.188  0.359  0.138  0.199\n",
      "Random forest (n=10, max_depth=8)      0.361  0.119   0.18  0.343  0.108  0.165  0.386  0.134  0.198\n",
      "Random forest (n=20, max_depth=4)      0.378  0.101  0.159  0.361  0.097  0.152  0.398  0.119  0.184\n",
      "Random forest (n=20, max_depth=6)      0.389   0.13  0.194  0.382  0.126  0.189  0.342  0.124  0.183\n",
      "Random forest (n=20, max_depth=8)       0.35  0.111  0.168  0.353  0.107  0.164  0.378   0.12  0.183\n"
     ]
    }
   ],
   "source": [
    "classifier_names = ['Random forest (n=10, max_depth=4)',\n",
    "                    'Random forest (n=10, max_depth=6)',\n",
    "                    'Random forest (n=10, max_depth=8)',\n",
    "                    'Random forest (n=20, max_depth=4)',\n",
    "                    'Random forest (n=20, max_depth=6)',\n",
    "                    'Random forest (n=20, max_depth=8)'\n",
    "                   ]\n",
    "\n",
    "classifier_list = [\n",
    "    RandomForestClassifier(max_depth=4, n_estimators=10),\n",
    "    RandomForestClassifier(max_depth=6, n_estimators=10),\n",
    "    RandomForestClassifier(max_depth=8, n_estimators=10),\n",
    "    RandomForestClassifier(max_depth=4, n_estimators=20),\n",
    "    RandomForestClassifier(max_depth=6, n_estimators=20),\n",
    "    RandomForestClassifier(max_depth=8, n_estimators=20)\n",
    "]\n",
    "\n",
    "print(\"\".ljust(36) + \"Random seed 42\".rjust(21) + \"Random seed 52\".rjust(21) \n",
    "      + \"Random seed 62\".rjust(21))\n",
    "print(\"Classifier name\".ljust(36) \n",
    "       + \"Pr\".rjust(8) + \"Re\".rjust(7) + \"F1\".rjust(7)\n",
    "       + \"Pr\".rjust(7) + \"Re\".rjust(7) + \"F1\".rjust(7)\n",
    "       + \"Pr\".rjust(7) + \"Re\".rjust(7) + \"F1\".rjust(7))\n",
    "for i, name in enumerate(classifier_names):\n",
    "    clf = classifier_list[i]\n",
    "    p1, r1, f1 = test_classifier(clf, my_dataset, (['poi'] + train_list))\n",
    "    p2, r2, f2 = test_classifier(clf, my_dataset, (['poi'] + train_list), rs = 52)\n",
    "    p3, r3, f3 = test_classifier(clf, my_dataset, (['poi'] + train_list), rs = 62)\n",
    "    print(str(name).ljust(36) \n",
    "        + str(round(p1,3)).rjust(8)\n",
    "        + str(round(r1,3)).rjust(7)\n",
    "        + str(round(f1,3)).rjust(7) \n",
    "        + str(round(p2,3)).rjust(7)\n",
    "        + str(round(r2,3)).rjust(7)\n",
    "        + str(round(f2,3)).rjust(7)\n",
    "        + str(round(p3,3)).rjust(7)\n",
    "        + str(round(r3,3)).rjust(7)\n",
    "        + str(round(f3,3)).rjust(7))"
   ]
  },
  {
   "cell_type": "code",
   "execution_count": 28,
   "metadata": {
    "collapsed": false
   },
   "outputs": [
    {
     "name": "stdout",
     "output_type": "stream",
     "text": [
      "                                           Random seed 42       Random seed 52       Random seed 62\n",
      "Classifier name                           Pr     Re     F1     Pr     Re     F1     Pr     Re     F1\n",
      "AdaBoost (n_estimators=20)             0.323  0.234  0.272  0.306  0.211   0.25  0.315  0.234  0.268\n",
      "AdaBoost (n_estimators=30)             0.335  0.244  0.283   0.32  0.223  0.262  0.326  0.257  0.287\n",
      "AdaBoost (n_estimators=50)             0.359  0.269  0.307  0.355  0.251  0.294  0.342  0.263  0.297\n"
     ]
    }
   ],
   "source": [
    "classifier_names = [\n",
    "    'AdaBoost (n_estimators=20)',\n",
    "    'AdaBoost (n_estimators=30)',\n",
    "    'AdaBoost (n_estimators=50)'\n",
    "]\n",
    "\n",
    "classifier_list = [\n",
    "    AdaBoostClassifier(n_estimators=20),\n",
    "    AdaBoostClassifier(n_estimators=30),\n",
    "    AdaBoostClassifier(n_estimators=50)\n",
    "]\n",
    "\n",
    "\n",
    "print(\"\".ljust(36) + \"Random seed 42\".rjust(21) + \"Random seed 52\".rjust(21) \n",
    "      + \"Random seed 62\".rjust(21))\n",
    "print(\"Classifier name\".ljust(36) \n",
    "       + \"Pr\".rjust(8) + \"Re\".rjust(7) + \"F1\".rjust(7)\n",
    "       + \"Pr\".rjust(7) + \"Re\".rjust(7) + \"F1\".rjust(7)\n",
    "       + \"Pr\".rjust(7) + \"Re\".rjust(7) + \"F1\".rjust(7))\n",
    "for i, name in enumerate(classifier_names):\n",
    "    clf = classifier_list[i]\n",
    "    p1, r1, f1 = test_classifier(clf, my_dataset, (['poi'] + train_list))\n",
    "    p2, r2, f2 = test_classifier(clf, my_dataset, (['poi'] + train_list), rs = 52)\n",
    "    p3, r3, f3 = test_classifier(clf, my_dataset, (['poi'] + train_list), rs = 62)\n",
    "    print(str(name).ljust(36) \n",
    "        + str(round(p1,3)).rjust(8)\n",
    "        + str(round(r1,3)).rjust(7)\n",
    "        + str(round(f1,3)).rjust(7) \n",
    "        + str(round(p2,3)).rjust(7)\n",
    "        + str(round(r2,3)).rjust(7)\n",
    "        + str(round(f2,3)).rjust(7)\n",
    "        + str(round(p3,3)).rjust(7)\n",
    "        + str(round(r3,3)).rjust(7)\n",
    "        + str(round(f3,3)).rjust(7))"
   ]
  },
  {
   "cell_type": "markdown",
   "metadata": {},
   "source": [
    "From the performance tables above the reader can see that<br />\n",
    "(1) The performance between different random seeds used in sklearn.model_selection.StratifiedShuffleSplit doesn't differ much. So this makes more sense to compare different algorithms. <br />\n",
    "(2) Surprisingly Gaussian naive Bayes has a very high performance on \"recall\" score. I guess it guesses lots of 1's on POI. <br />\n",
    "(3) SVM (C=3,5,10,100, kernel='rbf'), KNN(n_neighbors = 1) all satisfy the performance criterion of the project."
   ]
  },
  {
   "cell_type": "markdown",
   "metadata": {},
   "source": [
    "### 5.2 Adjusting number of features used\n",
    "\n",
    "In this section I'm going to focus on SVM (C=10, rbf), SVM (C=100, rbf), KNN(n_neighbors=1) and do some tunings on the number of features used. "
   ]
  },
  {
   "cell_type": "code",
   "execution_count": 36,
   "metadata": {
    "collapsed": false
   },
   "outputs": [],
   "source": [
    "def features_performance(clf, clf_name_string, randomseed = 42):\n",
    "    number_of_features = [i for i in range(5,18)] \n",
    "    Precision = []\n",
    "    Recall = []\n",
    "    F1 = []\n",
    "\n",
    "    for i in range(5,18):\n",
    "        p, r, f =  test_classifier(clf, \n",
    "                                   my_dataset, \n",
    "                                   (['poi'] + top_feature_list(i)), rs = randomseed)\n",
    "        Precision.append(p)\n",
    "        Recall.append(r)\n",
    "        F1.append(f)\n",
    "        \n",
    "    plt.plot(number_of_features, Precision, marker='o', linestyle='--', color='b', label='Precision')\n",
    "    plt.plot(number_of_features, Recall, marker='o', linestyle='--', color='r', label='Recall')\n",
    "    plt.plot(number_of_features, F1, marker='o', linestyle='--', color='g', label='F1')\n",
    "    plt.xlabel('Number of features')\n",
    "    plt.ylabel('Performance scores')\n",
    "    plt.title('Performance of '+ clf_name_string + ' / number of features uesd')\n",
    "    plt.legend()\n",
    "    plt.show()"
   ]
  },
  {
   "cell_type": "code",
   "execution_count": 37,
   "metadata": {
    "collapsed": false
   },
   "outputs": [
    {
     "data": {
      "image/png": "[encoded data removed]",
      "text/plain": [
       "<matplotlib.figure.Figure at 0xd3ea320>"
      ]
     },
     "metadata": {},
     "output_type": "display_data"
    }
   ],
   "source": [
    "features_performance(KNeighborsClassifier(n_neighbors=1),'KNN(n_neighbors=1)')"
   ]
  },
  {
   "cell_type": "code",
   "execution_count": 38,
   "metadata": {
    "collapsed": false
   },
   "outputs": [
    {
     "data": {
      "image/png": "[encoded data removed]",
      "text/plain": [
       "<matplotlib.figure.Figure at 0xd4980f0>"
      ]
     },
     "metadata": {},
     "output_type": "display_data"
    }
   ],
   "source": [
    "features_performance(SVC(kernel='rbf', C = 10),'SVM (C=10, rbf)')"
   ]
  },
  {
   "cell_type": "code",
   "execution_count": 40,
   "metadata": {
    "collapsed": false
   },
   "outputs": [
    {
     "data": {
      "image/png": "[encoded data removed]",
      "text/plain": [
       "<matplotlib.figure.Figure at 0xdfd4ef0>"
      ]
     },
     "metadata": {},
     "output_type": "display_data"
    }
   ],
   "source": [
    "features_performance(SVC(kernel='rbf', C = 100),'SVM (C=100, rbf)')"
   ]
  },
  {
   "cell_type": "markdown",
   "metadata": {},
   "source": [
    "From the figures above, SVM has the highest F1 scores and precision scores in large samples; KNN performs well on certain combination of features. \n",
    "\n",
    "In this project I'll use SVM(C=10, rbf, with 13 features) as the final estimator. It has the best performance and its running time is accetable."
   ]
  },
  {
   "cell_type": "markdown",
   "metadata": {},
   "source": [
    "## 6. Data leakage filters\n",
    "\n",
    "For this data set there's another way that I can think of to boost the performance of my algorithm: data leakage filters. Recall in the very beginnig of this report we have a list of NaN's in each variable:"
   ]
  },
  {
   "cell_type": "code",
   "execution_count": 21,
   "metadata": {
    "collapsed": false
   },
   "outputs": [
    {
     "name": "stdout",
     "output_type": "stream",
     "text": [
      "Feature name            ROP in NaNs  ROP in non-NaNs\n",
      "\n",
      "poi                             0/0      18/146\n",
      "salary                         1/51       17/95\n",
      "bonus                          2/64       16/82\n",
      "long_term_incentive            6/80       12/66\n",
      "deferred_income                7/97       11/49\n",
      "deferral_payments            13/107        5/39\n",
      "loan_advances                17/142         1/4\n",
      "other                          0/53       18/93\n",
      "expenses                       0/51       18/95\n",
      "director_fees                18/129        0/17\n",
      "total_payments                 0/21      18/125\n",
      "exercised_stock_options        6/44      12/102\n",
      "restricted_stock               1/36      17/110\n",
      "restricted_stock_deferred    18/128        0/18\n",
      "total_stock_value              0/20      18/126\n",
      "email_address                  0/35      18/111\n",
      "to_messages                    4/60       14/86\n",
      "from_messages                  4/60       14/86\n",
      "from_poi_to_this_person        4/60       14/86\n",
      "from_this_person_to_poi        4/60       14/86\n",
      "shared_receipt_with_poi        4/60       14/86\n"
     ]
    }
   ],
   "source": [
    "print((\"Feature name\").ljust(24) +  (\"ROP in NaNs\").rjust(9) + \"  ROP in non-NaNs\")\n",
    "print(\"\")\n",
    "\n",
    "for key in features_list:\n",
    "    ctr1 = 0\n",
    "    ctr2 = 0\n",
    "    ctr3 = 0\n",
    "    for row in data:\n",
    "        if (data[row][key] == \"NaN\"):\n",
    "            ctr1 += 1\n",
    "        if (data[row][key] == \"NaN\") and (data[row]['poi'] == True):\n",
    "            ctr2 += 1\n",
    "        if (data[row][key] != \"NaN\") and (data[row]['poi'] == True):\n",
    "                ctr3 += 1\n",
    "    print ((key).ljust(26)  + (str(ctr2)+\"/\"+str(ctr1)).rjust(9) +\n",
    "                (str(ctr3)+\"/\"+str(146 - ctr1)).rjust(12))"
   ]
  },
  {
   "cell_type": "markdown",
   "metadata": {},
   "source": [
    "The table above allows us to set some filters. Say, if the director_fees column of a person is not NaN, they we can guess it's likely that he's not a POI because all POIs in this set are NaN's. We can do similar guesses for other columns like 'other', 'expenses', and so on. Each time this haapens to a person, the safety counter for that person +=1. Once the value of the safety counter for that person hits, say, 2 or 3, we can guess that person is very likely to be a non-POI. I'm not going to implement the algorithm here (because the cross validation set of this project is basically some reordering and repetitions of the all the data we have, this filter could make perfect guesses on a large portion of the cross validation set)."
   ]
  },
  {
   "cell_type": "markdown",
   "metadata": {},
   "source": [
    "## 7 Vaildation and evaluation\n",
    "\n",
    "### 7.1 Evaluation metric\n",
    "\n",
    "The evaluation metric used in this report is precision, recall, and F1 score, but not accurancy rates. This is because our focus really is those POIs. precison is like the hit rate when we make guesses on POIs, and recall is like the ratio of how many bad guys are caught. Besides, in our data set, the propotion of POI is less than 20%, which makes accurancy rates inadequate (one can always guess on 0 to get high accuracy rates)."
   ]
  },
  {
   "cell_type": "markdown",
   "metadata": {},
   "source": [
    "### 7.2 Cross validation methods\n",
    "\n",
    "I found the figure posted in\n",
    "https://discussions.udacity.com/t/gridsearchcv-and-testingtraining-data/36107/3\n",
    "quite useful:\n",
    "\n",
    "<img src=\"train_test_validate.png\">\n",
    "\n",
    "Usually we split our data set into training set, cross validation set, and test set. We use training set to build models, and then use cross validation set to tune parameters, and use test set to evaluate final performance. In this project, the data we have is quite few, so we have do things like the buttom case in the previous figure: we duplicate our data set, and then do random samplings. "
   ]
  },
  {
   "cell_type": "markdown",
   "metadata": {},
   "source": [
    "## 8. Reflection\n",
    "### 8.1 What else can be done?\n",
    "* Data Transformation<br/>\n",
    "Other than log transformation, We can aslo try square root transformation, cube root transformation ..  as well (on data with long tails). Then we can test to see if other transformations can produce better results.\n",
    "\n",
    "* Feature Scaling<br/>\n",
    "Besides standard deviation scaling, we can also try min/max scaling on features. One thing to notice is that I don't think it's a good idea to do min/max scaling if the difference of max - min for different features differ by a lot.  \n",
    "\n",
    "* Combination of estimators<br/>\n",
    "If we have many good estimators, we can use them to create combined estimators. Say we have estimator A, B, C, a new estimator will predict on 1 if at least two of A, B, C predict on 1. Same for 0. Or, if estimator A is very good at catching 1's (although it's precision score is not high), we can create a combined estimator to predict on 0 once estimator A predicts on 0, and predict on 1 for certain outputs of A, B, C. \n",
    "\n",
    "### 8.2 few thoughts and questions\n",
    "\n",
    "I'm curious about what other data scientists would do, like \n",
    "* On what situations they would create new features?<br/>\n",
    "* How many paramters they will tune for a specific classifier?<br/>\n",
    "* What paramters of classifier are worth to be tuned?<br/>\n",
    "* How to stirke a balance between time efficiency and classifier performance<br/>\n",
    "* Should we try different ways to do cross validations? Is there a guideline to decide how many pieces we should break our original data set and do cross validation? Is it a good idea to always use StratifiedShuffleSplit no matter how many data we have?<br/>\n",
    "* How do we claim that the final estimator we produced is a good estimator?"
   ]
  }
 ],
 "metadata": {
  "kernelspec": {
   "display_name": "Python 2",
   "language": "python",
   "name": "python2"
  },
  "language_info": {
   "codemirror_mode": {
    "name": "ipython",
    "version": 2
   },
   "file_extension": ".py",
   "mimetype": "text/x-python",
   "name": "python",
   "nbconvert_exporter": "python",
   "pygments_lexer": "ipython2",
   "version": "2.7.13"
  }
 },
 "nbformat": 4,
 "nbformat_minor": 0
}
